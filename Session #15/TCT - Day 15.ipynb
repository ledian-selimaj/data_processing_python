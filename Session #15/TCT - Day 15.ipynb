{
 "cells": [
  {
   "cell_type": "markdown",
   "id": "2050977e",
   "metadata": {},
   "source": [
    "# TCT - Day 15\n",
    "- Setting working directory & reading many files with the same extension from it \n",
    "- Intro to regex"
   ]
  },
  {
   "cell_type": "markdown",
   "id": "7b478d11",
   "metadata": {},
   "source": [
    "## Working directory"
   ]
  },
  {
   "cell_type": "code",
   "execution_count": 11,
   "id": "0b296a39",
   "metadata": {},
   "outputs": [],
   "source": [
    "import os\n",
    "import glob\n",
    "import pandas as pd"
   ]
  },
  {
   "cell_type": "code",
   "execution_count": 3,
   "id": "3dba1111",
   "metadata": {},
   "outputs": [
    {
     "data": {
      "text/plain": [
       "'C:\\\\Users\\\\lear_\\\\Downloads'"
      ]
     },
     "execution_count": 3,
     "metadata": {},
     "output_type": "execute_result"
    }
   ],
   "source": [
    "os.getcwd()"
   ]
  },
  {
   "cell_type": "code",
   "execution_count": 4,
   "id": "873a793c",
   "metadata": {},
   "outputs": [
    {
     "data": {
      "text/plain": [
       "'C:\\\\Users\\\\lear_\\\\Downloads'"
      ]
     },
     "execution_count": 4,
     "metadata": {},
     "output_type": "execute_result"
    }
   ],
   "source": [
    "PATH=os.getcwd()\n",
    "PATH"
   ]
  },
  {
   "cell_type": "code",
   "execution_count": 5,
   "id": "17f9ea63",
   "metadata": {},
   "outputs": [],
   "source": [
    "PATH_NEW=\"C:\\\\Users\\\\lear_\\\\Desktop\""
   ]
  },
  {
   "cell_type": "code",
   "execution_count": 6,
   "id": "136c2325",
   "metadata": {},
   "outputs": [],
   "source": [
    "os.chdir(PATH_NEW)"
   ]
  },
  {
   "cell_type": "code",
   "execution_count": 7,
   "id": "260480f4",
   "metadata": {},
   "outputs": [
    {
     "data": {
      "text/plain": [
       "'C:\\\\Users\\\\lear_\\\\Desktop'"
      ]
     },
     "execution_count": 7,
     "metadata": {},
     "output_type": "execute_result"
    }
   ],
   "source": [
    "os.getcwd()"
   ]
  },
  {
   "cell_type": "code",
   "execution_count": null,
   "id": "995d74e0",
   "metadata": {},
   "outputs": [],
   "source": [
    "#example of file path\n",
    "\"C:\\\\Users\\\\lear_\\\\Desktop\\\\example1.csv\""
   ]
  },
  {
   "cell_type": "code",
   "execution_count": 8,
   "id": "e1af0594",
   "metadata": {},
   "outputs": [],
   "source": [
    "PATHS=os.path.join(os.getcwd(),'*.xlsx')"
   ]
  },
  {
   "cell_type": "code",
   "execution_count": 9,
   "id": "59a97928",
   "metadata": {},
   "outputs": [],
   "source": [
    "all_filles=glob.glob(PATHS)"
   ]
  },
  {
   "cell_type": "code",
   "execution_count": 10,
   "id": "559d6f15",
   "metadata": {},
   "outputs": [
    {
     "data": {
      "text/plain": [
       "['C:\\\\Users\\\\lear_\\\\Desktop\\\\Copy of Wind Farm Development Model(1553).xlsx',\n",
       " 'C:\\\\Users\\\\lear_\\\\Desktop\\\\dkarbo expenses.xlsx',\n",
       " 'C:\\\\Users\\\\lear_\\\\Desktop\\\\expenses new year 2022.xlsx']"
      ]
     },
     "execution_count": 10,
     "metadata": {},
     "output_type": "execute_result"
    }
   ],
   "source": [
    "all_filles"
   ]
  },
  {
   "cell_type": "code",
   "execution_count": 12,
   "id": "a926ed12",
   "metadata": {},
   "outputs": [
    {
     "name": "stdout",
     "output_type": "stream",
     "text": [
      "C:\\Users\\lear_\\Desktop\\Copy of Wind Farm Development Model(1553).xlsx \n",
      "\n",
      "C:\\Users\\lear_\\Desktop\\dkarbo expenses.xlsx \n",
      "\n",
      "C:\\Users\\lear_\\Desktop\\expenses new year 2022.xlsx \n",
      "\n"
     ]
    }
   ],
   "source": [
    "list_data=[]\n",
    "\n",
    "for file in all_filles:\n",
    "    print(file,'\\n')\n",
    "    df=pd.read_excel(file)\n",
    "    list_data.append(df)\n"
   ]
  },
  {
   "cell_type": "code",
   "execution_count": 17,
   "id": "4d976210",
   "metadata": {},
   "outputs": [
    {
     "data": {
      "text/plain": [
       "3"
      ]
     },
     "execution_count": 17,
     "metadata": {},
     "output_type": "execute_result"
    }
   ],
   "source": [
    "len(list_data)"
   ]
  },
  {
   "cell_type": "code",
   "execution_count": 19,
   "id": "e1080f8e",
   "metadata": {},
   "outputs": [
    {
     "data": {
      "text/html": [
       "<div>\n",
       "<style scoped>\n",
       "    .dataframe tbody tr th:only-of-type {\n",
       "        vertical-align: middle;\n",
       "    }\n",
       "\n",
       "    .dataframe tbody tr th {\n",
       "        vertical-align: top;\n",
       "    }\n",
       "\n",
       "    .dataframe thead th {\n",
       "        text-align: right;\n",
       "    }\n",
       "</style>\n",
       "<table border=\"1\" class=\"dataframe\">\n",
       "  <thead>\n",
       "    <tr style=\"text-align: right;\">\n",
       "      <th></th>\n",
       "      <th>lidl</th>\n",
       "      <th>144</th>\n",
       "    </tr>\n",
       "  </thead>\n",
       "  <tbody>\n",
       "    <tr>\n",
       "      <th>0</th>\n",
       "      <td>ottoman</td>\n",
       "      <td>780.0</td>\n",
       "    </tr>\n",
       "    <tr>\n",
       "      <th>1</th>\n",
       "      <td>spar</td>\n",
       "      <td>187.0</td>\n",
       "    </tr>\n",
       "    <tr>\n",
       "      <th>2</th>\n",
       "      <td>netto</td>\n",
       "      <td>55.0</td>\n",
       "    </tr>\n",
       "    <tr>\n",
       "      <th>3</th>\n",
       "      <td>spar</td>\n",
       "      <td>109.0</td>\n",
       "    </tr>\n",
       "    <tr>\n",
       "      <th>4</th>\n",
       "      <td>spar</td>\n",
       "      <td>300.0</td>\n",
       "    </tr>\n",
       "    <tr>\n",
       "      <th>5</th>\n",
       "      <td>espresso</td>\n",
       "      <td>88.0</td>\n",
       "    </tr>\n",
       "    <tr>\n",
       "      <th>6</th>\n",
       "      <td>spar</td>\n",
       "      <td>140.0</td>\n",
       "    </tr>\n",
       "    <tr>\n",
       "      <th>7</th>\n",
       "      <td>netto</td>\n",
       "      <td>600.0</td>\n",
       "    </tr>\n",
       "    <tr>\n",
       "      <th>8</th>\n",
       "      <td>emmerys</td>\n",
       "      <td>360.0</td>\n",
       "    </tr>\n",
       "    <tr>\n",
       "      <th>9</th>\n",
       "      <td>total</td>\n",
       "      <td>2763.0</td>\n",
       "    </tr>\n",
       "    <tr>\n",
       "      <th>10</th>\n",
       "      <td>half</td>\n",
       "      <td>1381.5</td>\n",
       "    </tr>\n",
       "    <tr>\n",
       "      <th>11</th>\n",
       "      <td>thirtd</td>\n",
       "      <td>921.0</td>\n",
       "    </tr>\n",
       "    <tr>\n",
       "      <th>12</th>\n",
       "      <td>poker</td>\n",
       "      <td>821.0</td>\n",
       "    </tr>\n",
       "  </tbody>\n",
       "</table>\n",
       "</div>"
      ],
      "text/plain": [
       "        lidl     144\n",
       "0    ottoman   780.0\n",
       "1       spar   187.0\n",
       "2      netto    55.0\n",
       "3       spar   109.0\n",
       "4       spar   300.0\n",
       "5   espresso    88.0\n",
       "6       spar   140.0\n",
       "7      netto   600.0\n",
       "8    emmerys   360.0\n",
       "9      total  2763.0\n",
       "10      half  1381.5\n",
       "11    thirtd   921.0\n",
       "12     poker   821.0"
      ]
     },
     "execution_count": 19,
     "metadata": {},
     "output_type": "execute_result"
    }
   ],
   "source": [
    "list_data[2]"
   ]
  },
  {
   "cell_type": "code",
   "execution_count": 20,
   "id": "9fe61d64",
   "metadata": {},
   "outputs": [],
   "source": [
    "all_df= pd.concat(list_data,axis=0,ignore_index=True)"
   ]
  },
  {
   "cell_type": "code",
   "execution_count": 21,
   "id": "07fc97c2",
   "metadata": {},
   "outputs": [
    {
     "data": {
      "text/html": [
       "<div>\n",
       "<style scoped>\n",
       "    .dataframe tbody tr th:only-of-type {\n",
       "        vertical-align: middle;\n",
       "    }\n",
       "\n",
       "    .dataframe tbody tr th {\n",
       "        vertical-align: top;\n",
       "    }\n",
       "\n",
       "    .dataframe thead th {\n",
       "        text-align: right;\n",
       "    }\n",
       "</style>\n",
       "<table border=\"1\" class=\"dataframe\">\n",
       "  <thead>\n",
       "    <tr style=\"text-align: right;\">\n",
       "      <th></th>\n",
       "      <th>Unnamed: 0</th>\n",
       "      <th>Unnamed: 1</th>\n",
       "      <th>Unnamed: 2</th>\n",
       "      <th>Unnamed: 3</th>\n",
       "      <th>Unnamed: 4</th>\n",
       "      <th>Unnamed: 5</th>\n",
       "      <th>Unnamed: 6</th>\n",
       "      <th>Unnamed: 7</th>\n",
       "      <th>Unnamed: 8</th>\n",
       "      <th>Unnamed: 9</th>\n",
       "      <th>Unnamed: 10</th>\n",
       "      <th>Unnamed: 11</th>\n",
       "      <th>Unnamed: 12</th>\n",
       "      <th>Items</th>\n",
       "      <th>Quantity</th>\n",
       "      <th>Fixed/Variable</th>\n",
       "      <th>Total</th>\n",
       "      <th>lidl</th>\n",
       "      <th>144</th>\n",
       "    </tr>\n",
       "  </thead>\n",
       "  <tbody>\n",
       "    <tr>\n",
       "      <th>0</th>\n",
       "      <td>NaN</td>\n",
       "      <td>NaN</td>\n",
       "      <td>NaN</td>\n",
       "      <td>NaN</td>\n",
       "      <td>Financial Model</td>\n",
       "      <td>NaN</td>\n",
       "      <td>NaN</td>\n",
       "      <td>NaN</td>\n",
       "      <td>NaN</td>\n",
       "      <td>NaN</td>\n",
       "      <td>NaN</td>\n",
       "      <td>NaN</td>\n",
       "      <td>NaN</td>\n",
       "      <td>NaN</td>\n",
       "      <td>NaN</td>\n",
       "      <td>NaN</td>\n",
       "      <td>NaN</td>\n",
       "      <td>NaN</td>\n",
       "      <td>NaN</td>\n",
       "    </tr>\n",
       "    <tr>\n",
       "      <th>1</th>\n",
       "      <td>NaN</td>\n",
       "      <td>NaN</td>\n",
       "      <td>NaN</td>\n",
       "      <td>NaN</td>\n",
       "      <td>NaN</td>\n",
       "      <td>NaN</td>\n",
       "      <td>NaN</td>\n",
       "      <td>NaN</td>\n",
       "      <td>NaN</td>\n",
       "      <td>NaN</td>\n",
       "      <td>NaN</td>\n",
       "      <td>NaN</td>\n",
       "      <td>NaN</td>\n",
       "      <td>NaN</td>\n",
       "      <td>NaN</td>\n",
       "      <td>NaN</td>\n",
       "      <td>NaN</td>\n",
       "      <td>NaN</td>\n",
       "      <td>NaN</td>\n",
       "    </tr>\n",
       "    <tr>\n",
       "      <th>2</th>\n",
       "      <td>NaN</td>\n",
       "      <td>NaN</td>\n",
       "      <td>NaN</td>\n",
       "      <td>NaN</td>\n",
       "      <td>NaN</td>\n",
       "      <td>NaN</td>\n",
       "      <td>NaN</td>\n",
       "      <td>NaN</td>\n",
       "      <td>NaN</td>\n",
       "      <td>NaN</td>\n",
       "      <td>NaN</td>\n",
       "      <td>NaN</td>\n",
       "      <td>NaN</td>\n",
       "      <td>NaN</td>\n",
       "      <td>NaN</td>\n",
       "      <td>NaN</td>\n",
       "      <td>NaN</td>\n",
       "      <td>NaN</td>\n",
       "      <td>NaN</td>\n",
       "    </tr>\n",
       "    <tr>\n",
       "      <th>3</th>\n",
       "      <td>NaN</td>\n",
       "      <td>NaN</td>\n",
       "      <td>NaN</td>\n",
       "      <td>NaN</td>\n",
       "      <td>NaN</td>\n",
       "      <td>NaN</td>\n",
       "      <td>NaN</td>\n",
       "      <td>NaN</td>\n",
       "      <td>NaN</td>\n",
       "      <td>NaN</td>\n",
       "      <td>NaN</td>\n",
       "      <td>NaN</td>\n",
       "      <td>NaN</td>\n",
       "      <td>NaN</td>\n",
       "      <td>NaN</td>\n",
       "      <td>NaN</td>\n",
       "      <td>NaN</td>\n",
       "      <td>NaN</td>\n",
       "      <td>NaN</td>\n",
       "    </tr>\n",
       "    <tr>\n",
       "      <th>4</th>\n",
       "      <td>NaN</td>\n",
       "      <td>NaN</td>\n",
       "      <td>NaN</td>\n",
       "      <td>NaN</td>\n",
       "      <td>NaN</td>\n",
       "      <td>NaN</td>\n",
       "      <td>NaN</td>\n",
       "      <td>NaN</td>\n",
       "      <td>NaN</td>\n",
       "      <td>NaN</td>\n",
       "      <td>NaN</td>\n",
       "      <td>NaN</td>\n",
       "      <td>NaN</td>\n",
       "      <td>NaN</td>\n",
       "      <td>NaN</td>\n",
       "      <td>NaN</td>\n",
       "      <td>NaN</td>\n",
       "      <td>NaN</td>\n",
       "      <td>NaN</td>\n",
       "    </tr>\n",
       "    <tr>\n",
       "      <th>...</th>\n",
       "      <td>...</td>\n",
       "      <td>...</td>\n",
       "      <td>...</td>\n",
       "      <td>...</td>\n",
       "      <td>...</td>\n",
       "      <td>...</td>\n",
       "      <td>...</td>\n",
       "      <td>...</td>\n",
       "      <td>...</td>\n",
       "      <td>...</td>\n",
       "      <td>...</td>\n",
       "      <td>...</td>\n",
       "      <td>...</td>\n",
       "      <td>...</td>\n",
       "      <td>...</td>\n",
       "      <td>...</td>\n",
       "      <td>...</td>\n",
       "      <td>...</td>\n",
       "      <td>...</td>\n",
       "    </tr>\n",
       "    <tr>\n",
       "      <th>64</th>\n",
       "      <td>NaN</td>\n",
       "      <td>NaN</td>\n",
       "      <td>NaN</td>\n",
       "      <td>NaN</td>\n",
       "      <td>NaN</td>\n",
       "      <td>NaN</td>\n",
       "      <td>NaN</td>\n",
       "      <td>NaN</td>\n",
       "      <td>NaN</td>\n",
       "      <td>NaN</td>\n",
       "      <td>NaN</td>\n",
       "      <td>NaN</td>\n",
       "      <td>NaN</td>\n",
       "      <td>NaN</td>\n",
       "      <td>NaN</td>\n",
       "      <td>NaN</td>\n",
       "      <td>NaN</td>\n",
       "      <td>emmerys</td>\n",
       "      <td>360.0</td>\n",
       "    </tr>\n",
       "    <tr>\n",
       "      <th>65</th>\n",
       "      <td>NaN</td>\n",
       "      <td>NaN</td>\n",
       "      <td>NaN</td>\n",
       "      <td>NaN</td>\n",
       "      <td>NaN</td>\n",
       "      <td>NaN</td>\n",
       "      <td>NaN</td>\n",
       "      <td>NaN</td>\n",
       "      <td>NaN</td>\n",
       "      <td>NaN</td>\n",
       "      <td>NaN</td>\n",
       "      <td>NaN</td>\n",
       "      <td>NaN</td>\n",
       "      <td>NaN</td>\n",
       "      <td>NaN</td>\n",
       "      <td>NaN</td>\n",
       "      <td>NaN</td>\n",
       "      <td>total</td>\n",
       "      <td>2763.0</td>\n",
       "    </tr>\n",
       "    <tr>\n",
       "      <th>66</th>\n",
       "      <td>NaN</td>\n",
       "      <td>NaN</td>\n",
       "      <td>NaN</td>\n",
       "      <td>NaN</td>\n",
       "      <td>NaN</td>\n",
       "      <td>NaN</td>\n",
       "      <td>NaN</td>\n",
       "      <td>NaN</td>\n",
       "      <td>NaN</td>\n",
       "      <td>NaN</td>\n",
       "      <td>NaN</td>\n",
       "      <td>NaN</td>\n",
       "      <td>NaN</td>\n",
       "      <td>NaN</td>\n",
       "      <td>NaN</td>\n",
       "      <td>NaN</td>\n",
       "      <td>NaN</td>\n",
       "      <td>half</td>\n",
       "      <td>1381.5</td>\n",
       "    </tr>\n",
       "    <tr>\n",
       "      <th>67</th>\n",
       "      <td>NaN</td>\n",
       "      <td>NaN</td>\n",
       "      <td>NaN</td>\n",
       "      <td>NaN</td>\n",
       "      <td>NaN</td>\n",
       "      <td>NaN</td>\n",
       "      <td>NaN</td>\n",
       "      <td>NaN</td>\n",
       "      <td>NaN</td>\n",
       "      <td>NaN</td>\n",
       "      <td>NaN</td>\n",
       "      <td>NaN</td>\n",
       "      <td>NaN</td>\n",
       "      <td>NaN</td>\n",
       "      <td>NaN</td>\n",
       "      <td>NaN</td>\n",
       "      <td>NaN</td>\n",
       "      <td>thirtd</td>\n",
       "      <td>921.0</td>\n",
       "    </tr>\n",
       "    <tr>\n",
       "      <th>68</th>\n",
       "      <td>NaN</td>\n",
       "      <td>NaN</td>\n",
       "      <td>NaN</td>\n",
       "      <td>NaN</td>\n",
       "      <td>NaN</td>\n",
       "      <td>NaN</td>\n",
       "      <td>NaN</td>\n",
       "      <td>NaN</td>\n",
       "      <td>NaN</td>\n",
       "      <td>NaN</td>\n",
       "      <td>NaN</td>\n",
       "      <td>NaN</td>\n",
       "      <td>NaN</td>\n",
       "      <td>NaN</td>\n",
       "      <td>NaN</td>\n",
       "      <td>NaN</td>\n",
       "      <td>NaN</td>\n",
       "      <td>poker</td>\n",
       "      <td>821.0</td>\n",
       "    </tr>\n",
       "  </tbody>\n",
       "</table>\n",
       "<p>69 rows × 19 columns</p>\n",
       "</div>"
      ],
      "text/plain": [
       "    Unnamed: 0  Unnamed: 1  Unnamed: 2  Unnamed: 3       Unnamed: 4  \\\n",
       "0          NaN         NaN         NaN         NaN  Financial Model   \n",
       "1          NaN         NaN         NaN         NaN              NaN   \n",
       "2          NaN         NaN         NaN         NaN              NaN   \n",
       "3          NaN         NaN         NaN         NaN              NaN   \n",
       "4          NaN         NaN         NaN         NaN              NaN   \n",
       "..         ...         ...         ...         ...              ...   \n",
       "64         NaN         NaN         NaN         NaN              NaN   \n",
       "65         NaN         NaN         NaN         NaN              NaN   \n",
       "66         NaN         NaN         NaN         NaN              NaN   \n",
       "67         NaN         NaN         NaN         NaN              NaN   \n",
       "68         NaN         NaN         NaN         NaN              NaN   \n",
       "\n",
       "    Unnamed: 5  Unnamed: 6  Unnamed: 7  Unnamed: 8  Unnamed: 9  Unnamed: 10  \\\n",
       "0          NaN         NaN         NaN         NaN         NaN          NaN   \n",
       "1          NaN         NaN         NaN         NaN         NaN          NaN   \n",
       "2          NaN         NaN         NaN         NaN         NaN          NaN   \n",
       "3          NaN         NaN         NaN         NaN         NaN          NaN   \n",
       "4          NaN         NaN         NaN         NaN         NaN          NaN   \n",
       "..         ...         ...         ...         ...         ...          ...   \n",
       "64         NaN         NaN         NaN         NaN         NaN          NaN   \n",
       "65         NaN         NaN         NaN         NaN         NaN          NaN   \n",
       "66         NaN         NaN         NaN         NaN         NaN          NaN   \n",
       "67         NaN         NaN         NaN         NaN         NaN          NaN   \n",
       "68         NaN         NaN         NaN         NaN         NaN          NaN   \n",
       "\n",
       "    Unnamed: 11  Unnamed: 12 Items  Quantity Fixed/Variable  Total     lidl  \\\n",
       "0           NaN          NaN   NaN       NaN            NaN    NaN      NaN   \n",
       "1           NaN          NaN   NaN       NaN            NaN    NaN      NaN   \n",
       "2           NaN          NaN   NaN       NaN            NaN    NaN      NaN   \n",
       "3           NaN          NaN   NaN       NaN            NaN    NaN      NaN   \n",
       "4           NaN          NaN   NaN       NaN            NaN    NaN      NaN   \n",
       "..          ...          ...   ...       ...            ...    ...      ...   \n",
       "64          NaN          NaN   NaN       NaN            NaN    NaN  emmerys   \n",
       "65          NaN          NaN   NaN       NaN            NaN    NaN    total   \n",
       "66          NaN          NaN   NaN       NaN            NaN    NaN     half   \n",
       "67          NaN          NaN   NaN       NaN            NaN    NaN   thirtd   \n",
       "68          NaN          NaN   NaN       NaN            NaN    NaN    poker   \n",
       "\n",
       "       144  \n",
       "0      NaN  \n",
       "1      NaN  \n",
       "2      NaN  \n",
       "3      NaN  \n",
       "4      NaN  \n",
       "..     ...  \n",
       "64   360.0  \n",
       "65  2763.0  \n",
       "66  1381.5  \n",
       "67   921.0  \n",
       "68   821.0  \n",
       "\n",
       "[69 rows x 19 columns]"
      ]
     },
     "execution_count": 21,
     "metadata": {},
     "output_type": "execute_result"
    }
   ],
   "source": [
    "all_df"
   ]
  },
  {
   "cell_type": "markdown",
   "id": "59ef658b",
   "metadata": {},
   "source": [
    "## Intro to regex"
   ]
  },
  {
   "cell_type": "code",
   "execution_count": 22,
   "id": "e876414a",
   "metadata": {},
   "outputs": [],
   "source": [
    "import re"
   ]
  },
  {
   "cell_type": "code",
   "execution_count": 44,
   "id": "47547768",
   "metadata": {},
   "outputs": [],
   "source": [
    "text_to_search = '''\n",
    "abcdefghijklmnopqurtuvwxyz\n",
    "ABCDEFGHIJKLMNOPQRSTUVWXYZ\n",
    "1234567890\n",
    "123abcdef\n",
    "\n",
    "Hello HelloHello\n",
    "\n",
    "MetaCharacters (Need to be escaped):\n",
    ". ^ $ * + ? { } [ ] \\ | ( )\n",
    "\n",
    "university.edu\n",
    "\n",
    "contact@ledianselimaj.com\n",
    "\n",
    "annie.eni97@gmail.com\n",
    "\n",
    "Mr. Johnson\n",
    "Mr Smith\n",
    "Ms Davis\n",
    "Mrs. Robinson\n",
    "Mr. T\n",
    "23562476\n",
    "'''"
   ]
  },
  {
   "cell_type": "code",
   "execution_count": 24,
   "id": "23b060f3",
   "metadata": {},
   "outputs": [],
   "source": [
    "urls = r'''\n",
    "https://www.google.com\n",
    "http://yahoo.com\n",
    "https://www.whitehouse.gov\n",
    "https://craigslist.org\n",
    "'''"
   ]
  },
  {
   "cell_type": "markdown",
   "id": "e9a599b8",
   "metadata": {},
   "source": [
    "### match full string"
   ]
  },
  {
   "cell_type": "code",
   "execution_count": 32,
   "id": "b3bf67cf",
   "metadata": {},
   "outputs": [],
   "source": [
    "pattern=re.compile(r'def')"
   ]
  },
  {
   "cell_type": "code",
   "execution_count": 33,
   "id": "9b221579",
   "metadata": {},
   "outputs": [],
   "source": [
    "matches=pattern.finditer(text_to_search)"
   ]
  },
  {
   "cell_type": "code",
   "execution_count": 34,
   "id": "fbb5e481",
   "metadata": {},
   "outputs": [
    {
     "data": {
      "text/plain": [
       "<callable_iterator at 0x2472576dd90>"
      ]
     },
     "execution_count": 34,
     "metadata": {},
     "output_type": "execute_result"
    }
   ],
   "source": [
    "matches"
   ]
  },
  {
   "cell_type": "code",
   "execution_count": 35,
   "id": "b63a1f90",
   "metadata": {},
   "outputs": [
    {
     "name": "stdout",
     "output_type": "stream",
     "text": [
      "<re.Match object; span=(4, 7), match='def'>\n",
      "<re.Match object; span=(72, 75), match='def'>\n"
     ]
    }
   ],
   "source": [
    "for match in matches:\n",
    "    print(match)"
   ]
  },
  {
   "cell_type": "markdown",
   "id": "934e010d",
   "metadata": {},
   "source": [
    "### match all characters"
   ]
  },
  {
   "cell_type": "code",
   "execution_count": 39,
   "id": "3b836fec",
   "metadata": {},
   "outputs": [
    {
     "name": "stdout",
     "output_type": "stream",
     "text": [
      "<re.Match object; span=(55, 56), match='1'>\n",
      "<re.Match object; span=(56, 57), match='2'>\n",
      "<re.Match object; span=(57, 58), match='3'>\n",
      "<re.Match object; span=(58, 59), match='4'>\n",
      "<re.Match object; span=(59, 60), match='5'>\n",
      "<re.Match object; span=(60, 61), match='6'>\n",
      "<re.Match object; span=(61, 62), match='7'>\n",
      "<re.Match object; span=(62, 63), match='8'>\n",
      "<re.Match object; span=(63, 64), match='9'>\n",
      "<re.Match object; span=(64, 65), match='0'>\n",
      "<re.Match object; span=(66, 67), match='1'>\n",
      "<re.Match object; span=(67, 68), match='2'>\n",
      "<re.Match object; span=(68, 69), match='3'>\n",
      "<re.Match object; span=(254, 255), match='2'>\n",
      "<re.Match object; span=(255, 256), match='3'>\n",
      "<re.Match object; span=(256, 257), match='5'>\n",
      "<re.Match object; span=(257, 258), match='6'>\n",
      "<re.Match object; span=(258, 259), match='2'>\n",
      "<re.Match object; span=(259, 260), match='4'>\n",
      "<re.Match object; span=(260, 261), match='7'>\n",
      "<re.Match object; span=(261, 262), match='6'>\n"
     ]
    }
   ],
   "source": [
    "pattern=re.compile(r'\\d')\n",
    "matches=pattern.finditer(text_to_search)\n",
    "for match in matches:\n",
    "    print(match)"
   ]
  },
  {
   "cell_type": "code",
   "execution_count": 40,
   "id": "823416bb",
   "metadata": {},
   "outputs": [
    {
     "name": "stdout",
     "output_type": "stream",
     "text": [
      "<re.Match object; span=(55, 57), match='12'>\n",
      "<re.Match object; span=(57, 59), match='34'>\n",
      "<re.Match object; span=(59, 61), match='56'>\n",
      "<re.Match object; span=(61, 63), match='78'>\n",
      "<re.Match object; span=(63, 65), match='90'>\n",
      "<re.Match object; span=(66, 68), match='12'>\n",
      "<re.Match object; span=(68, 70), match='3a'>\n",
      "<re.Match object; span=(254, 256), match='23'>\n",
      "<re.Match object; span=(256, 258), match='56'>\n",
      "<re.Match object; span=(258, 260), match='24'>\n",
      "<re.Match object; span=(260, 262), match='76'>\n"
     ]
    }
   ],
   "source": [
    "pattern=re.compile(r'\\d\\w')\n",
    "matches=pattern.finditer(text_to_search)\n",
    "for match in matches:\n",
    "    print(match)"
   ]
  },
  {
   "cell_type": "markdown",
   "id": "bbd1940d",
   "metadata": {},
   "source": [
    "### match email"
   ]
  },
  {
   "cell_type": "code",
   "execution_count": 46,
   "id": "a2b324c2",
   "metadata": {},
   "outputs": [
    {
     "name": "stdout",
     "output_type": "stream",
     "text": [
      "<re.Match object; span=(177, 202), match='contact@ledianselimaj.com'>\n",
      "<re.Match object; span=(204, 225), match='annie.eni97@gmail.com'>\n"
     ]
    }
   ],
   "source": [
    "pattern=re.compile(r'[a-zA-Z0-9_.+-]+@[a-zA-Z0-9.-]+\\.[a-zA-Z0-9]{2,4}')\n",
    "matches=pattern.finditer(text_to_search)\n",
    "for match in matches:\n",
    "    print(match)"
   ]
  },
  {
   "cell_type": "markdown",
   "id": "eb9177d3",
   "metadata": {},
   "source": [
    "### match web site address"
   ]
  },
  {
   "cell_type": "code",
   "execution_count": 47,
   "id": "656aa027",
   "metadata": {},
   "outputs": [
    {
     "name": "stdout",
     "output_type": "stream",
     "text": [
      "<re.Match object; span=(1, 23), match='https://www.google.com'>\n",
      "<re.Match object; span=(24, 40), match='http://yahoo.com'>\n",
      "<re.Match object; span=(41, 67), match='https://www.whitehouse.gov'>\n",
      "<re.Match object; span=(68, 90), match='https://craigslist.org'>\n"
     ]
    }
   ],
   "source": [
    "pattern=re.compile(r'https?://(www\\.)?(\\w+)\\.(\\w+)')\n",
    "matches=pattern.finditer(urls)\n",
    "for match in matches:\n",
    "    print(match)"
   ]
  },
  {
   "cell_type": "code",
   "execution_count": null,
   "id": "51fc4666",
   "metadata": {},
   "outputs": [],
   "source": []
  }
 ],
 "metadata": {
  "kernelspec": {
   "display_name": "Python 3",
   "language": "python",
   "name": "python3"
  },
  "language_info": {
   "codemirror_mode": {
    "name": "ipython",
    "version": 3
   },
   "file_extension": ".py",
   "mimetype": "text/x-python",
   "name": "python",
   "nbconvert_exporter": "python",
   "pygments_lexer": "ipython3",
   "version": "3.8.8"
  }
 },
 "nbformat": 4,
 "nbformat_minor": 5
}
