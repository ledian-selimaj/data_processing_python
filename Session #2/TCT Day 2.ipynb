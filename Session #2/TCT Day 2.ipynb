{
 "cells": [
  {
   "cell_type": "markdown",
   "id": "fc13f154",
   "metadata": {},
   "source": [
    "# Day 2 - 11 May:\n",
    "* Basic operations in python cont’\n",
    "    * boolean\n",
    "    * conditional statements\n",
    "    * functions\n",
    "* Python data types\n",
    "    * lists/tuples\n",
    "    * dictionaries/sets\n",
    "* Python loops and conditional statements\n",
    "    * for & while loop"
   ]
  },
  {
   "cell_type": "markdown",
   "id": "d97b413e",
   "metadata": {},
   "source": [
    "#### Boolean"
   ]
  },
  {
   "cell_type": "code",
   "execution_count": 1,
   "id": "bfb76c73",
   "metadata": {},
   "outputs": [
    {
     "data": {
      "text/plain": [
       "True"
      ]
     },
     "execution_count": 1,
     "metadata": {},
     "output_type": "execute_result"
    }
   ],
   "source": [
    "True"
   ]
  },
  {
   "cell_type": "code",
   "execution_count": 2,
   "id": "7532c934",
   "metadata": {},
   "outputs": [
    {
     "data": {
      "text/plain": [
       "2"
      ]
     },
     "execution_count": 2,
     "metadata": {},
     "output_type": "execute_result"
    }
   ],
   "source": [
    "True+True"
   ]
  },
  {
   "cell_type": "code",
   "execution_count": 3,
   "id": "d0a2c01d",
   "metadata": {},
   "outputs": [
    {
     "data": {
      "text/plain": [
       "False"
      ]
     },
     "execution_count": 3,
     "metadata": {},
     "output_type": "execute_result"
    }
   ],
   "source": [
    "False"
   ]
  },
  {
   "cell_type": "code",
   "execution_count": 4,
   "id": "325c2e33",
   "metadata": {},
   "outputs": [
    {
     "data": {
      "text/plain": [
       "1"
      ]
     },
     "execution_count": 4,
     "metadata": {},
     "output_type": "execute_result"
    }
   ],
   "source": [
    "False+True"
   ]
  },
  {
   "cell_type": "code",
   "execution_count": 5,
   "id": "a1c9d90b",
   "metadata": {},
   "outputs": [
    {
     "data": {
      "text/plain": [
       "0"
      ]
     },
     "execution_count": 5,
     "metadata": {},
     "output_type": "execute_result"
    }
   ],
   "source": [
    "False+False"
   ]
  },
  {
   "cell_type": "markdown",
   "id": "81423d1b",
   "metadata": {},
   "source": [
    "#### Conditional statements"
   ]
  },
  {
   "cell_type": "code",
   "execution_count": 6,
   "id": "d55e35b1",
   "metadata": {},
   "outputs": [
    {
     "name": "stdout",
     "output_type": "stream",
     "text": [
      "False\n"
     ]
    }
   ],
   "source": [
    "if 2>3:\n",
    "    print('True')\n",
    "else:\n",
    "    print('False')"
   ]
  },
  {
   "cell_type": "code",
   "execution_count": 11,
   "id": "c44b6c78",
   "metadata": {},
   "outputs": [
    {
     "name": "stdout",
     "output_type": "stream",
     "text": [
      "False\n"
     ]
    }
   ],
   "source": [
    "if 2>3:\n",
    "    print('True')\n",
    "elif 2==3:\n",
    "    print('else if')\n",
    "else:\n",
    "    print('False')"
   ]
  },
  {
   "cell_type": "markdown",
   "id": "ff3187c6",
   "metadata": {},
   "source": [
    "#### Functions"
   ]
  },
  {
   "cell_type": "code",
   "execution_count": 15,
   "id": "87cd7740",
   "metadata": {},
   "outputs": [],
   "source": [
    "def function():\n",
    "    return False"
   ]
  },
  {
   "cell_type": "code",
   "execution_count": 16,
   "id": "15fcb8f0",
   "metadata": {},
   "outputs": [],
   "source": [
    "if function():\n",
    "    print('True')"
   ]
  },
  {
   "cell_type": "code",
   "execution_count": 17,
   "id": "34b47566",
   "metadata": {},
   "outputs": [],
   "source": [
    "def hello(surename):\n",
    "    print('Ledian'+surename)"
   ]
  },
  {
   "cell_type": "code",
   "execution_count": 19,
   "id": "be7f58b9",
   "metadata": {},
   "outputs": [
    {
     "name": "stdout",
     "output_type": "stream",
     "text": [
      "Ledian Selimaj\n"
     ]
    }
   ],
   "source": [
    "hello(' Selimaj')"
   ]
  },
  {
   "cell_type": "code",
   "execution_count": 21,
   "id": "5937b14c",
   "metadata": {},
   "outputs": [],
   "source": [
    "def power3(number):\n",
    "    return number*number*number"
   ]
  },
  {
   "cell_type": "code",
   "execution_count": 22,
   "id": "f6e0e54f",
   "metadata": {},
   "outputs": [
    {
     "data": {
      "text/plain": [
       "8"
      ]
     },
     "execution_count": 22,
     "metadata": {},
     "output_type": "execute_result"
    }
   ],
   "source": [
    "power3(2)"
   ]
  },
  {
   "cell_type": "code",
   "execution_count": 23,
   "id": "3e195e49",
   "metadata": {},
   "outputs": [],
   "source": [
    "res=power3(2)"
   ]
  },
  {
   "cell_type": "code",
   "execution_count": 24,
   "id": "53bf304a",
   "metadata": {},
   "outputs": [
    {
     "data": {
      "text/plain": [
       "16"
      ]
     },
     "execution_count": 24,
     "metadata": {},
     "output_type": "execute_result"
    }
   ],
   "source": [
    "res*2"
   ]
  },
  {
   "cell_type": "code",
   "execution_count": 25,
   "id": "1d373a91",
   "metadata": {},
   "outputs": [
    {
     "data": {
      "text/plain": [
       "int"
      ]
     },
     "execution_count": 25,
     "metadata": {},
     "output_type": "execute_result"
    }
   ],
   "source": [
    "type(res)"
   ]
  },
  {
   "cell_type": "markdown",
   "id": "b2dcfd77",
   "metadata": {},
   "source": [
    "#### for loop"
   ]
  },
  {
   "cell_type": "code",
   "execution_count": 26,
   "id": "aec7730e",
   "metadata": {},
   "outputs": [
    {
     "name": "stdout",
     "output_type": "stream",
     "text": [
      "0\n",
      "1\n",
      "2\n",
      "3\n",
      "4\n",
      "5\n"
     ]
    }
   ],
   "source": [
    "x = range(6)\n",
    "for n in x:\n",
    "  print(n)"
   ]
  },
  {
   "cell_type": "code",
   "execution_count": 27,
   "id": "3e7a12c9",
   "metadata": {},
   "outputs": [
    {
     "data": {
      "text/plain": [
       "range"
      ]
     },
     "execution_count": 27,
     "metadata": {},
     "output_type": "execute_result"
    }
   ],
   "source": [
    "type(x)"
   ]
  },
  {
   "cell_type": "markdown",
   "id": "2284aa1b",
   "metadata": {},
   "source": [
    "#### lists"
   ]
  },
  {
   "cell_type": "code",
   "execution_count": 45,
   "id": "b7ad6301",
   "metadata": {},
   "outputs": [],
   "source": [
    "list_=[0,1,2,3,4,5]"
   ]
  },
  {
   "cell_type": "code",
   "execution_count": 55,
   "id": "4b4c70fb",
   "metadata": {},
   "outputs": [
    {
     "data": {
      "text/plain": [
       "5"
      ]
     },
     "execution_count": 55,
     "metadata": {},
     "output_type": "execute_result"
    }
   ],
   "source": [
    "list_[-1]"
   ]
  },
  {
   "cell_type": "code",
   "execution_count": 56,
   "id": "c7ef2bdf",
   "metadata": {},
   "outputs": [],
   "source": [
    "list_[0]=10"
   ]
  },
  {
   "cell_type": "code",
   "execution_count": 57,
   "id": "982e6779",
   "metadata": {},
   "outputs": [
    {
     "data": {
      "text/plain": [
       "[10, 1, 2, 3, 4, 5]"
      ]
     },
     "execution_count": 57,
     "metadata": {},
     "output_type": "execute_result"
    }
   ],
   "source": [
    "list_"
   ]
  },
  {
   "cell_type": "code",
   "execution_count": 59,
   "id": "9bb9f57f",
   "metadata": {},
   "outputs": [],
   "source": [
    "list_.append(100)"
   ]
  },
  {
   "cell_type": "code",
   "execution_count": 60,
   "id": "39bf3f8a",
   "metadata": {},
   "outputs": [
    {
     "data": {
      "text/plain": [
       "[10, 1, 2, 3, 4, 5, 100]"
      ]
     },
     "execution_count": 60,
     "metadata": {},
     "output_type": "execute_result"
    }
   ],
   "source": [
    "list_"
   ]
  },
  {
   "cell_type": "code",
   "execution_count": 61,
   "id": "7697d0b8",
   "metadata": {},
   "outputs": [],
   "source": [
    "list_.remove(100)"
   ]
  },
  {
   "cell_type": "code",
   "execution_count": 62,
   "id": "f2ea4713",
   "metadata": {},
   "outputs": [
    {
     "data": {
      "text/plain": [
       "[10, 1, 2, 3, 4, 5]"
      ]
     },
     "execution_count": 62,
     "metadata": {},
     "output_type": "execute_result"
    }
   ],
   "source": [
    "list_"
   ]
  },
  {
   "cell_type": "code",
   "execution_count": 65,
   "id": "44e13f25",
   "metadata": {},
   "outputs": [],
   "source": [
    "list_.insert(3,100)"
   ]
  },
  {
   "cell_type": "code",
   "execution_count": null,
   "id": "2110e880",
   "metadata": {},
   "outputs": [],
   "source": [
    "list_=list_.insert(3,100)"
   ]
  },
  {
   "cell_type": "code",
   "execution_count": 67,
   "id": "3373805b",
   "metadata": {},
   "outputs": [
    {
     "data": {
      "text/plain": [
       "[10, 1, 2, 100, 3, 4, 5]"
      ]
     },
     "execution_count": 67,
     "metadata": {},
     "output_type": "execute_result"
    }
   ],
   "source": [
    "list_"
   ]
  },
  {
   "cell_type": "code",
   "execution_count": 63,
   "id": "0d4feb4d",
   "metadata": {},
   "outputs": [],
   "source": [
    "list_2=list_.copy()"
   ]
  },
  {
   "cell_type": "code",
   "execution_count": 64,
   "id": "b221e071",
   "metadata": {},
   "outputs": [
    {
     "data": {
      "text/plain": [
       "[10, 1, 2, 3, 4, 5]"
      ]
     },
     "execution_count": 64,
     "metadata": {},
     "output_type": "execute_result"
    }
   ],
   "source": [
    "list_2"
   ]
  },
  {
   "cell_type": "code",
   "execution_count": 39,
   "id": "11c0f57e",
   "metadata": {},
   "outputs": [
    {
     "name": "stdout",
     "output_type": "stream",
     "text": [
      "0\n",
      "1\n",
      "2\n",
      "3\n",
      "4\n",
      "5\n"
     ]
    }
   ],
   "source": [
    "for i in list_:\n",
    "    print(i)"
   ]
  },
  {
   "cell_type": "code",
   "execution_count": 50,
   "id": "90a36209",
   "metadata": {},
   "outputs": [
    {
     "data": {
      "text/plain": [
       "2.5"
      ]
     },
     "execution_count": 50,
     "metadata": {},
     "output_type": "execute_result"
    }
   ],
   "source": [
    "sum(list_)/len(list_)"
   ]
  },
  {
   "cell_type": "code",
   "execution_count": 51,
   "id": "a5afc575",
   "metadata": {},
   "outputs": [
    {
     "data": {
      "text/plain": [
       "0"
      ]
     },
     "execution_count": 51,
     "metadata": {},
     "output_type": "execute_result"
    }
   ],
   "source": [
    "min(list_)"
   ]
  },
  {
   "cell_type": "code",
   "execution_count": 52,
   "id": "fa32d90a",
   "metadata": {},
   "outputs": [
    {
     "data": {
      "text/plain": [
       "5"
      ]
     },
     "execution_count": 52,
     "metadata": {},
     "output_type": "execute_result"
    }
   ],
   "source": [
    "max(list_)"
   ]
  },
  {
   "cell_type": "code",
   "execution_count": 40,
   "id": "006f5728",
   "metadata": {},
   "outputs": [],
   "source": [
    "list_mix=[1,'Ledian',True,3,5]"
   ]
  },
  {
   "cell_type": "code",
   "execution_count": 43,
   "id": "23419625",
   "metadata": {},
   "outputs": [
    {
     "data": {
      "text/plain": [
       "3"
      ]
     },
     "execution_count": 43,
     "metadata": {},
     "output_type": "execute_result"
    }
   ],
   "source": [
    "list_mix[3]"
   ]
  },
  {
   "cell_type": "code",
   "execution_count": 30,
   "id": "7946a117",
   "metadata": {},
   "outputs": [
    {
     "data": {
      "text/plain": [
       "[0, 1, 2, 3, 4, 5]"
      ]
     },
     "execution_count": 30,
     "metadata": {},
     "output_type": "execute_result"
    }
   ],
   "source": [
    "list_"
   ]
  },
  {
   "cell_type": "code",
   "execution_count": 31,
   "id": "9daa5b84",
   "metadata": {},
   "outputs": [
    {
     "data": {
      "text/plain": [
       "list"
      ]
     },
     "execution_count": 31,
     "metadata": {},
     "output_type": "execute_result"
    }
   ],
   "source": [
    "type(list_)"
   ]
  },
  {
   "cell_type": "code",
   "execution_count": 128,
   "id": "76abd6f9",
   "metadata": {},
   "outputs": [
    {
     "data": {
      "text/plain": [
       "['learning', True, 'python', 2, 'test', False, 'R']"
      ]
     },
     "execution_count": 128,
     "metadata": {},
     "output_type": "execute_result"
    }
   ],
   "source": [
    "#exercise\n",
    "ls1=['learning',True,'python',2]\n",
    "ls2=['test',False,'R']\n",
    "ls1+ls2"
   ]
  },
  {
   "cell_type": "code",
   "execution_count": 78,
   "id": "d9d2bdf0",
   "metadata": {},
   "outputs": [],
   "source": [
    "ls1=[1,2,3,4]\n",
    "ls2=[1,2,3]"
   ]
  },
  {
   "cell_type": "code",
   "execution_count": 73,
   "id": "5fc144c9",
   "metadata": {},
   "outputs": [
    {
     "data": {
      "text/plain": [
       "[1, 2, 3, 1, 2, 3]"
      ]
     },
     "execution_count": 73,
     "metadata": {},
     "output_type": "execute_result"
    }
   ],
   "source": [
    "ls1+ls2"
   ]
  },
  {
   "cell_type": "code",
   "execution_count": 79,
   "id": "22aaec1c",
   "metadata": {},
   "outputs": [],
   "source": [
    "test_zip=zip(ls1,ls2)"
   ]
  },
  {
   "cell_type": "code",
   "execution_count": 80,
   "id": "de4cdb27",
   "metadata": {},
   "outputs": [],
   "source": [
    "test_zip=[x+y for x,y in test_zip]"
   ]
  },
  {
   "cell_type": "code",
   "execution_count": 81,
   "id": "1df5ef2e",
   "metadata": {},
   "outputs": [
    {
     "data": {
      "text/plain": [
       "[2, 4, 6]"
      ]
     },
     "execution_count": 81,
     "metadata": {},
     "output_type": "execute_result"
    }
   ],
   "source": [
    "test_zip"
   ]
  },
  {
   "cell_type": "code",
   "execution_count": 91,
   "id": "b7676223",
   "metadata": {},
   "outputs": [],
   "source": [
    "list.clear()"
   ]
  },
  {
   "cell_type": "code",
   "execution_count": 95,
   "id": "8d1a3c58",
   "metadata": {},
   "outputs": [],
   "source": [
    "list_squares=[1,2,3,4,5]"
   ]
  },
  {
   "cell_type": "code",
   "execution_count": 97,
   "id": "41192dae",
   "metadata": {},
   "outputs": [
    {
     "name": "stdout",
     "output_type": "stream",
     "text": [
      "[1, 4, 9, 16, 25]\n"
     ]
    }
   ],
   "source": [
    "#exercise\n",
    "squares = [x*x for x in list_squares]\n",
    "print(squares)"
   ]
  },
  {
   "cell_type": "code",
   "execution_count": null,
   "id": "e7bdeb81",
   "metadata": {},
   "outputs": [],
   "source": [
    "#exercises\n",
    "#try\n",
    "#sort ascending and descending\n",
    "#pop\n",
    "#extend between two lists"
   ]
  },
  {
   "cell_type": "code",
   "execution_count": null,
   "id": "3c022a04",
   "metadata": {},
   "outputs": [],
   "source": [
    "list_example=[1,0]\n",
    "list_nested=['list in the list']\n",
    "list_example.insert(0,list_nested)\n",
    "list_example"
   ]
  },
  {
   "cell_type": "code",
   "execution_count": 111,
   "id": "b0e5bdd7",
   "metadata": {},
   "outputs": [
    {
     "ename": "TypeError",
     "evalue": "'list' object is not callable",
     "output_type": "error",
     "traceback": [
      "\u001b[1;31m---------------------------------------------------------------------------\u001b[0m",
      "\u001b[1;31mTypeError\u001b[0m                                 Traceback (most recent call last)",
      "\u001b[1;32m<ipython-input-111-fc4c684516b9>\u001b[0m in \u001b[0;36m<module>\u001b[1;34m\u001b[0m\n\u001b[0;32m      1\u001b[0m \u001b[1;32mimport\u001b[0m \u001b[0msys\u001b[0m\u001b[1;33m\u001b[0m\u001b[1;33m\u001b[0m\u001b[0m\n\u001b[1;32m----> 2\u001b[1;33m \u001b[0ma_list\u001b[0m \u001b[1;33m=\u001b[0m \u001b[0mlist\u001b[0m\u001b[1;33m(\u001b[0m\u001b[1;33m)\u001b[0m\u001b[1;33m\u001b[0m\u001b[1;33m\u001b[0m\u001b[0m\n\u001b[0m\u001b[0;32m      3\u001b[0m \u001b[0ma_tuple\u001b[0m \u001b[1;33m=\u001b[0m \u001b[0mtuple\u001b[0m\u001b[1;33m(\u001b[0m\u001b[1;33m)\u001b[0m\u001b[1;33m\u001b[0m\u001b[1;33m\u001b[0m\u001b[0m\n\u001b[0;32m      4\u001b[0m \u001b[0ma_list\u001b[0m \u001b[1;33m=\u001b[0m \u001b[1;33m[\u001b[0m\u001b[1;36m1\u001b[0m\u001b[1;33m,\u001b[0m\u001b[1;36m2\u001b[0m\u001b[1;33m,\u001b[0m\u001b[1;36m3\u001b[0m\u001b[1;33m,\u001b[0m\u001b[1;36m4\u001b[0m\u001b[1;33m,\u001b[0m\u001b[1;36m5\u001b[0m\u001b[1;33m]\u001b[0m\u001b[1;33m\u001b[0m\u001b[1;33m\u001b[0m\u001b[0m\n\u001b[0;32m      5\u001b[0m \u001b[0ma_tuple\u001b[0m \u001b[1;33m=\u001b[0m \u001b[1;33m(\u001b[0m\u001b[1;36m1\u001b[0m\u001b[1;33m,\u001b[0m\u001b[1;36m2\u001b[0m\u001b[1;33m,\u001b[0m\u001b[1;36m3\u001b[0m\u001b[1;33m,\u001b[0m\u001b[1;36m4\u001b[0m\u001b[1;33m,\u001b[0m\u001b[1;36m5\u001b[0m\u001b[1;33m)\u001b[0m\u001b[1;33m\u001b[0m\u001b[1;33m\u001b[0m\u001b[0m\n",
      "\u001b[1;31mTypeError\u001b[0m: 'list' object is not callable"
     ]
    }
   ],
   "source": [
    "import sys\n",
    "a_list = list()\n",
    "a_tuple = tuple()\n",
    "a_list = [1,2,3,4,5]\n",
    "a_tuple = (1,2,3,4,5)\n",
    "print(sys.getsizeof(a_list))\n",
    "print(sys.getsizeof(a_tuple))\n"
   ]
  },
  {
   "cell_type": "markdown",
   "id": "2399cded",
   "metadata": {},
   "source": [
    "#### while loop"
   ]
  },
  {
   "cell_type": "code",
   "execution_count": 130,
   "id": "ac531527",
   "metadata": {},
   "outputs": [
    {
     "name": "stdout",
     "output_type": "stream",
     "text": [
      "10\n",
      "11\n",
      "12\n",
      "13\n",
      "14\n",
      "outside the loop\n"
     ]
    }
   ],
   "source": [
    "i=10\n",
    "while i<15:\n",
    "    print(i)\n",
    "    i=i+1\n",
    "print('outside the loop')"
   ]
  },
  {
   "cell_type": "markdown",
   "id": "9be56cee",
   "metadata": {},
   "source": [
    "#### Dictionaries/sets"
   ]
  },
  {
   "cell_type": "code",
   "execution_count": 101,
   "id": "76ea925e",
   "metadata": {},
   "outputs": [],
   "source": [
    "simple_dict = {\n",
    "    \"brand\": \"Apple\",\n",
    "    \"product\": \"iPhone\",\n",
    "    \"model\": \"X\"\n",
    "}"
   ]
  },
  {
   "cell_type": "code",
   "execution_count": 102,
   "id": "6b2c37d4",
   "metadata": {},
   "outputs": [
    {
     "data": {
      "text/plain": [
       "{'brand': 'Apple', 'product': 'iPhone', 'model': 'X'}"
      ]
     },
     "execution_count": 102,
     "metadata": {},
     "output_type": "execute_result"
    }
   ],
   "source": [
    "simple_dict"
   ]
  },
  {
   "cell_type": "code",
   "execution_count": 103,
   "id": "0d8a43ff",
   "metadata": {},
   "outputs": [
    {
     "data": {
      "text/plain": [
       "'Apple'"
      ]
     },
     "execution_count": 103,
     "metadata": {},
     "output_type": "execute_result"
    }
   ],
   "source": [
    "simple_dict['brand']"
   ]
  },
  {
   "cell_type": "code",
   "execution_count": 104,
   "id": "ae54cd41",
   "metadata": {},
   "outputs": [],
   "source": [
    "simple_dict['brand']='Samsung'"
   ]
  },
  {
   "cell_type": "code",
   "execution_count": 105,
   "id": "c1a12229",
   "metadata": {},
   "outputs": [
    {
     "data": {
      "text/plain": [
       "'Samsung'"
      ]
     },
     "execution_count": 105,
     "metadata": {},
     "output_type": "execute_result"
    }
   ],
   "source": [
    "simple_dict['brand']"
   ]
  },
  {
   "cell_type": "code",
   "execution_count": 106,
   "id": "f5ac0030",
   "metadata": {},
   "outputs": [],
   "source": [
    "set_example={1,2,3}"
   ]
  },
  {
   "cell_type": "code",
   "execution_count": 107,
   "id": "2b060bf8",
   "metadata": {},
   "outputs": [
    {
     "data": {
      "text/plain": [
       "{1, 2, 3}"
      ]
     },
     "execution_count": 107,
     "metadata": {},
     "output_type": "execute_result"
    }
   ],
   "source": [
    "set_example"
   ]
  },
  {
   "cell_type": "code",
   "execution_count": 108,
   "id": "b2145f85",
   "metadata": {},
   "outputs": [],
   "source": [
    "set_example.add(7)"
   ]
  },
  {
   "cell_type": "code",
   "execution_count": 109,
   "id": "75a564c8",
   "metadata": {},
   "outputs": [
    {
     "data": {
      "text/plain": [
       "{1, 2, 3, 7}"
      ]
     },
     "execution_count": 109,
     "metadata": {},
     "output_type": "execute_result"
    }
   ],
   "source": [
    "set_example"
   ]
  },
  {
   "cell_type": "code",
   "execution_count": 110,
   "id": "eeb1b6b0",
   "metadata": {},
   "outputs": [
    {
     "data": {
      "text/plain": [
       "set"
      ]
     },
     "execution_count": 110,
     "metadata": {},
     "output_type": "execute_result"
    }
   ],
   "source": [
    "type(set_example)"
   ]
  },
  {
   "cell_type": "markdown",
   "id": "67485985",
   "metadata": {},
   "source": [
    "#### Lambda"
   ]
  },
  {
   "cell_type": "code",
   "execution_count": 118,
   "id": "8701ba53",
   "metadata": {},
   "outputs": [],
   "source": [
    "power3_=lambda x:x*x*x"
   ]
  },
  {
   "cell_type": "code",
   "execution_count": 119,
   "id": "ab8a5f8b",
   "metadata": {},
   "outputs": [
    {
     "data": {
      "text/plain": [
       "8"
      ]
     },
     "execution_count": 119,
     "metadata": {},
     "output_type": "execute_result"
    }
   ],
   "source": [
    "power3_(2)"
   ]
  },
  {
   "cell_type": "markdown",
   "id": "82d9dafb",
   "metadata": {},
   "source": [
    "#### Range function"
   ]
  },
  {
   "cell_type": "code",
   "execution_count": 120,
   "id": "8f848708",
   "metadata": {},
   "outputs": [
    {
     "name": "stdout",
     "output_type": "stream",
     "text": [
      "3\n",
      "5\n",
      "7\n",
      "9\n",
      "11\n",
      "13\n",
      "15\n",
      "17\n",
      "19\n"
     ]
    }
   ],
   "source": [
    "x = range(3, 20, 2)\n",
    "for n in x:\n",
    "  print(n)"
   ]
  },
  {
   "cell_type": "code",
   "execution_count": 127,
   "id": "d3823706",
   "metadata": {},
   "outputs": [
    {
     "name": "stdout",
     "output_type": "stream",
     "text": [
      "21\n",
      "20\n",
      "19\n",
      "18\n",
      "17\n",
      "16\n",
      "15\n",
      "14\n",
      "13\n",
      "12\n",
      "11\n",
      "10\n",
      "9\n",
      "8\n",
      "7\n",
      "6\n",
      "5\n",
      "4\n"
     ]
    }
   ],
   "source": [
    "x = range(21, 3,-1)\n",
    "for n in x:\n",
    "  print(n)"
   ]
  },
  {
   "cell_type": "code",
   "execution_count": 125,
   "id": "4567e4df",
   "metadata": {},
   "outputs": [
    {
     "data": {
      "text/plain": [
       "range(3, 21, -1)"
      ]
     },
     "execution_count": 125,
     "metadata": {},
     "output_type": "execute_result"
    }
   ],
   "source": [
    "x"
   ]
  }
 ],
 "metadata": {
  "kernelspec": {
   "display_name": "Python 3",
   "language": "python",
   "name": "python3"
  },
  "language_info": {
   "codemirror_mode": {
    "name": "ipython",
    "version": 3
   },
   "file_extension": ".py",
   "mimetype": "text/x-python",
   "name": "python",
   "nbconvert_exporter": "python",
   "pygments_lexer": "ipython3",
   "version": "3.8.8"
  }
 },
 "nbformat": 4,
 "nbformat_minor": 5
}
