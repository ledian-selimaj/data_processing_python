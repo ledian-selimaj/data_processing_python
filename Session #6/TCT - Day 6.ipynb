{
 "cells": [
  {
   "cell_type": "markdown",
   "id": "08dd148a",
   "metadata": {},
   "source": [
    "## TCT Day 6 - Pandas cont'\n",
    "\n",
    "* hw3 walkthrough \n",
    "* Pivotting\n",
    "* Profiling\n",
    "    - install pandas-profiling & import pandas_profiling\n",
    "* Working with API & JSON"
   ]
  },
  {
   "cell_type": "code",
   "execution_count": 10,
   "id": "a31f15c9",
   "metadata": {},
   "outputs": [],
   "source": [
    "import pandas as pd"
   ]
  },
  {
   "cell_type": "code",
   "execution_count": 3,
   "id": "4ffdeac0",
   "metadata": {},
   "outputs": [],
   "source": [
    "#pip install pandas-profiling"
   ]
  },
  {
   "cell_type": "code",
   "execution_count": 5,
   "id": "17346e32",
   "metadata": {},
   "outputs": [],
   "source": [
    "#import pandas_profiling"
   ]
  },
  {
   "cell_type": "code",
   "execution_count": 4,
   "id": "dfaccfa2",
   "metadata": {},
   "outputs": [],
   "source": [
    "#!pip install markupsafe"
   ]
  },
  {
   "cell_type": "code",
   "execution_count": 7,
   "id": "25b707f7",
   "metadata": {},
   "outputs": [],
   "source": [
    "#from pandas_profiling import ProfileReport "
   ]
  },
  {
   "cell_type": "code",
   "execution_count": 11,
   "id": "52be904a",
   "metadata": {},
   "outputs": [],
   "source": [
    "a_dict = {\n",
    "    'school': 'ABC primary school',\n",
    "    'location': 'London',\n",
    "    'ranking': 2,\n",
    "    'info': {\n",
    "        'president': 'John Kasich',\n",
    "        'contacts': {\n",
    "          'email': {\n",
    "              'admission': 'admission@abc.com',\n",
    "              'general': 'info@abc.com'\n",
    "          },\n",
    "          'tel': '123456789',\n",
    "      }\n",
    "    },\n",
    "    'students': [\n",
    "      { 'name': 'Tom' },\n",
    "      { 'name': 'James' },\n",
    "      { 'name': 'Jacqueline' }\n",
    "    ],\n",
    "}"
   ]
  },
  {
   "cell_type": "code",
   "execution_count": 20,
   "id": "fb7f7438",
   "metadata": {},
   "outputs": [
    {
     "data": {
      "text/html": [
       "<div>\n",
       "<style scoped>\n",
       "    .dataframe tbody tr th:only-of-type {\n",
       "        vertical-align: middle;\n",
       "    }\n",
       "\n",
       "    .dataframe tbody tr th {\n",
       "        vertical-align: top;\n",
       "    }\n",
       "\n",
       "    .dataframe thead th {\n",
       "        text-align: right;\n",
       "    }\n",
       "</style>\n",
       "<table border=\"1\" class=\"dataframe\">\n",
       "  <thead>\n",
       "    <tr style=\"text-align: right;\">\n",
       "      <th></th>\n",
       "      <th>school</th>\n",
       "      <th>location</th>\n",
       "      <th>ranking</th>\n",
       "      <th>students</th>\n",
       "      <th>info.president</th>\n",
       "      <th>info.contacts.email.admission</th>\n",
       "      <th>info.contacts.email.general</th>\n",
       "      <th>info.contacts.tel</th>\n",
       "    </tr>\n",
       "  </thead>\n",
       "  <tbody>\n",
       "    <tr>\n",
       "      <th>0</th>\n",
       "      <td>ABC primary school</td>\n",
       "      <td>London</td>\n",
       "      <td>2</td>\n",
       "      <td>[{'name': 'Tom'}, {'name': 'James'}, {'name': ...</td>\n",
       "      <td>John Kasich</td>\n",
       "      <td>admission@abc.com</td>\n",
       "      <td>info@abc.com</td>\n",
       "      <td>123456789</td>\n",
       "    </tr>\n",
       "  </tbody>\n",
       "</table>\n",
       "</div>"
      ],
      "text/plain": [
       "               school location  ranking  \\\n",
       "0  ABC primary school   London        2   \n",
       "\n",
       "                                            students info.president  \\\n",
       "0  [{'name': 'Tom'}, {'name': 'James'}, {'name': ...    John Kasich   \n",
       "\n",
       "  info.contacts.email.admission info.contacts.email.general info.contacts.tel  \n",
       "0             admission@abc.com                info@abc.com         123456789  "
      ]
     },
     "execution_count": 20,
     "metadata": {},
     "output_type": "execute_result"
    }
   ],
   "source": [
    "pd.json_normalize(a_dict)"
   ]
  },
  {
   "cell_type": "code",
   "execution_count": 17,
   "id": "8000e8c6",
   "metadata": {},
   "outputs": [
    {
     "data": {
      "text/html": [
       "<div>\n",
       "<style scoped>\n",
       "    .dataframe tbody tr th:only-of-type {\n",
       "        vertical-align: middle;\n",
       "    }\n",
       "\n",
       "    .dataframe tbody tr th {\n",
       "        vertical-align: top;\n",
       "    }\n",
       "\n",
       "    .dataframe thead th {\n",
       "        text-align: right;\n",
       "    }\n",
       "</style>\n",
       "<table border=\"1\" class=\"dataframe\">\n",
       "  <thead>\n",
       "    <tr style=\"text-align: right;\">\n",
       "      <th></th>\n",
       "      <th>name</th>\n",
       "    </tr>\n",
       "  </thead>\n",
       "  <tbody>\n",
       "    <tr>\n",
       "      <th>0</th>\n",
       "      <td>Tom</td>\n",
       "    </tr>\n",
       "    <tr>\n",
       "      <th>1</th>\n",
       "      <td>James</td>\n",
       "    </tr>\n",
       "    <tr>\n",
       "      <th>2</th>\n",
       "      <td>Jacqueline</td>\n",
       "    </tr>\n",
       "  </tbody>\n",
       "</table>\n",
       "</div>"
      ],
      "text/plain": [
       "         name\n",
       "0         Tom\n",
       "1       James\n",
       "2  Jacqueline"
      ]
     },
     "execution_count": 17,
     "metadata": {},
     "output_type": "execute_result"
    }
   ],
   "source": [
    "pd.json_normalize(a_dict, record_path =['students'])\n"
   ]
  },
  {
   "cell_type": "code",
   "execution_count": 13,
   "id": "02ab4e98",
   "metadata": {},
   "outputs": [],
   "source": [
    "URL=\"https://raw.githubusercontent.com/domoritz/maps/master/data/iris.json\""
   ]
  },
  {
   "cell_type": "code",
   "execution_count": 16,
   "id": "e2f1ff2a",
   "metadata": {},
   "outputs": [
    {
     "data": {
      "text/plain": [
       "'https://raw.githubusercontent.com/domoritz/maps/master/data/iris.json'"
      ]
     },
     "execution_count": 16,
     "metadata": {},
     "output_type": "execute_result"
    }
   ],
   "source": [
    "URL"
   ]
  },
  {
   "cell_type": "code",
   "execution_count": 14,
   "id": "47c5e7bc",
   "metadata": {},
   "outputs": [],
   "source": [
    "from_web=pd.read_json(URL)"
   ]
  },
  {
   "cell_type": "code",
   "execution_count": 23,
   "id": "620db643",
   "metadata": {},
   "outputs": [
    {
     "data": {
      "text/plain": [
       "pandas.core.frame.DataFrame"
      ]
     },
     "execution_count": 23,
     "metadata": {},
     "output_type": "execute_result"
    }
   ],
   "source": [
    "type(from_web)"
   ]
  },
  {
   "cell_type": "code",
   "execution_count": 21,
   "id": "9be63e59",
   "metadata": {},
   "outputs": [],
   "source": [
    "json_list = [\n",
    "    { \n",
    "        'class': 'Year 1', \n",
    "        'student count': 20, \n",
    "        'room': 'Yellow',\n",
    "        'info': {\n",
    "            'teachers': { \n",
    "                'math': 'Rick Scott', \n",
    "                'physics': 'Elon Mask' \n",
    "            }\n",
    "        },\n",
    "        'students': [\n",
    "            { \n",
    "                'name': 'Tom', \n",
    "                'sex': 'M', \n",
    "                'grades': { 'math': 66, 'physics': 77 } \n",
    "            },\n",
    "            { \n",
    "                'name': 'James', \n",
    "                'sex': 'M', \n",
    "                'grades': { 'math': 80, 'physics': 78 } \n",
    "            },\n",
    "        ]\n",
    "    },\n",
    "    { \n",
    "        'class': 'Year 2', \n",
    "        'student count': 25, \n",
    "        'room': 'Blue',\n",
    "        'info': {\n",
    "            'teachers': { \n",
    "                'math': 'Alan Turing', \n",
    "                'physics': 'Albert Einstein' \n",
    "            }\n",
    "        },\n",
    "        'students': [\n",
    "            { 'name': 'Tony', 'sex': 'M' },\n",
    "            { 'name': 'Jacqueline', 'sex': 'F' },\n",
    "        ]\n",
    "    },\n",
    "]"
   ]
  },
  {
   "cell_type": "code",
   "execution_count": 25,
   "id": "856e787a",
   "metadata": {},
   "outputs": [
    {
     "name": "stdout",
     "output_type": "stream",
     "text": [
      "{\"columns\":[\"col 1\",\"col 2\"],\"index\":[\"row 1\",\"row 2\"],\"data\":[[\"a\",\"b\"],[\"c\",\"d\"]]}\n",
      "{\"row 1\":{\"col 1\":\"a\",\"col 2\":\"b\"},\"row 2\":{\"col 1\":\"c\",\"col 2\":\"d\"}}\n",
      "{\"col 1\":{\"row 1\":\"a\",\"row 2\":\"c\"},\"col 2\":{\"row 1\":\"b\",\"row 2\":\"d\"}}\n"
     ]
    }
   ],
   "source": [
    "df = pd.DataFrame([['a', 'b'], ['c', 'd']],\n",
    "                  index =['row 1', 'row 2'],\n",
    "                  columns =['col 1', 'col 2'])\n",
    "  \n",
    "# Indication of expected JSON string format\n",
    "print(df.to_json(orient ='split'))\n",
    "  \n",
    "print(df.to_json(orient ='index'))\n",
    "\n",
    "print(df.to_json())"
   ]
  },
  {
   "cell_type": "code",
   "execution_count": 26,
   "id": "7a607cd8",
   "metadata": {},
   "outputs": [
    {
     "data": {
      "text/html": [
       "<div>\n",
       "<style scoped>\n",
       "    .dataframe tbody tr th:only-of-type {\n",
       "        vertical-align: middle;\n",
       "    }\n",
       "\n",
       "    .dataframe tbody tr th {\n",
       "        vertical-align: top;\n",
       "    }\n",
       "\n",
       "    .dataframe thead th {\n",
       "        text-align: right;\n",
       "    }\n",
       "</style>\n",
       "<table border=\"1\" class=\"dataframe\">\n",
       "  <thead>\n",
       "    <tr style=\"text-align: right;\">\n",
       "      <th></th>\n",
       "      <th>col 1</th>\n",
       "      <th>col 2</th>\n",
       "    </tr>\n",
       "  </thead>\n",
       "  <tbody>\n",
       "    <tr>\n",
       "      <th>row 1</th>\n",
       "      <td>a</td>\n",
       "      <td>b</td>\n",
       "    </tr>\n",
       "    <tr>\n",
       "      <th>row 2</th>\n",
       "      <td>c</td>\n",
       "      <td>d</td>\n",
       "    </tr>\n",
       "  </tbody>\n",
       "</table>\n",
       "</div>"
      ],
      "text/plain": [
       "      col 1 col 2\n",
       "row 1     a     b\n",
       "row 2     c     d"
      ]
     },
     "execution_count": 26,
     "metadata": {},
     "output_type": "execute_result"
    }
   ],
   "source": [
    "df"
   ]
  },
  {
   "cell_type": "code",
   "execution_count": null,
   "id": "e59a3697",
   "metadata": {},
   "outputs": [],
   "source": []
  }
 ],
 "metadata": {
  "kernelspec": {
   "display_name": "Python 3",
   "language": "python",
   "name": "python3"
  },
  "language_info": {
   "codemirror_mode": {
    "name": "ipython",
    "version": 3
   },
   "file_extension": ".py",
   "mimetype": "text/x-python",
   "name": "python",
   "nbconvert_exporter": "python",
   "pygments_lexer": "ipython3",
   "version": "3.8.8"
  }
 },
 "nbformat": 4,
 "nbformat_minor": 5
}
