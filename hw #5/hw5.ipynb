{
  "metadata": {
    "kernelspec": {
      "display_name": "Python 3",
      "language": "python",
      "name": "python3"
    },
    "language_info": {
      "name": "python",
      "version": "3.7.6",
      "mimetype": "text/x-python",
      "codemirror_mode": {
        "name": "ipython",
        "version": 3
      },
      "pygments_lexer": "ipython3",
      "nbconvert_exporter": "python",
      "file_extension": ".py"
    },
    "colab": {
      "name": "hw5",
      "provenance": [],
      "collapsed_sections": [
        "BojIJbczvGd_",
        "7_0_riCoPXpB",
        "YzZU2HXdUQJe",
        "Uq8gmVcPvGep",
        "6-bpIH5cvGfT",
        "zs80JcBSvGfz",
        "NWsOOZhQDZth"
      ]
    }
  },
  "nbformat_minor": 0,
  "nbformat": 4,
  "cells": [
    {
      "cell_type": "markdown",
      "source": [
        "----------------------------------\n",
        "# hw5 - Pandas cont'\n",
        "----------------------------------"
      ],
      "metadata": {
        "id": "BojIJbczvGd_"
      }
    },
    {
      "cell_type": "code",
      "source": [
        "#import libraies"
      ],
      "metadata": {
        "id": "I6SV2IsYPLtl"
      },
      "execution_count": 2,
      "outputs": []
    },
    {
      "cell_type": "code",
      "source": [
        "# your code here"
      ],
      "metadata": {
        "id": "YDZEwv1oPNaD"
      },
      "execution_count": 3,
      "outputs": []
    },
    {
      "cell_type": "code",
      "source": [
        "# import data prime-indians-diabetes.csv"
      ],
      "metadata": {
        "id": "tMrnP021PPCv"
      },
      "execution_count": 4,
      "outputs": []
    },
    {
      "cell_type": "code",
      "source": [
        "# your code here"
      ],
      "metadata": {
        "id": "sX5S_RkUPWWC"
      },
      "execution_count": 5,
      "outputs": []
    },
    {
      "cell_type": "code",
      "source": [
        "# check necesseray column attributes, data quality issues (e.g. null values), perform basic statistical analyses on the data"
      ],
      "metadata": {
        "id": "MXEf7GBRPY77"
      },
      "execution_count": 6,
      "outputs": []
    },
    {
      "cell_type": "code",
      "source": [
        "# your code here"
      ],
      "metadata": {
        "id": "G8PREvoUPjHJ"
      },
      "execution_count": 7,
      "outputs": []
    },
    {
      "cell_type": "code",
      "source": [
        "# check skewnes of the data using df.skew()"
      ],
      "metadata": {
        "id": "SSUM96bsPkVb"
      },
      "execution_count": 8,
      "outputs": []
    },
    {
      "cell_type": "code",
      "source": [
        "# your code here"
      ],
      "metadata": {
        "id": "OOXC2aaCPo7G"
      },
      "execution_count": 9,
      "outputs": []
    },
    {
      "cell_type": "code",
      "source": [
        "# use seaborn: sns.histplot(df['column_name']) to plot histogram for data columns with skewness greater than 1"
      ],
      "metadata": {
        "id": "Z5MmU0D5PqOJ"
      },
      "execution_count": 10,
      "outputs": []
    },
    {
      "cell_type": "code",
      "source": [
        "# your code here"
      ],
      "metadata": {
        "id": "kJ-pzHg7QA2c"
      },
      "execution_count": 11,
      "outputs": []
    },
    {
      "cell_type": "code",
      "source": [
        "# calcualte the % distrubtion of variable Outcome"
      ],
      "metadata": {
        "id": "7laVkx39vGe9"
      },
      "execution_count": 12,
      "outputs": []
    },
    {
      "cell_type": "code",
      "source": [
        "# your code here"
      ],
      "metadata": {
        "id": "qJvPG5zBRAqD"
      },
      "execution_count": null,
      "outputs": []
    },
    {
      "cell_type": "code",
      "source": [
        "# calcualte the mean and median of all column by column 'Outcome' to understand how the data is distributed amongst the various fields"
      ],
      "metadata": {
        "id": "GCWn_SwdvGfF"
      },
      "execution_count": 13,
      "outputs": []
    },
    {
      "cell_type": "code",
      "source": [
        "# your code here"
      ],
      "metadata": {
        "id": "USAKoIKHRK5y"
      },
      "execution_count": 14,
      "outputs": []
    },
    {
      "cell_type": "code",
      "source": [
        "# Check distributions by Outcome\n",
        "# use code: sns.pairplot(df, hue = 'Outcome')"
      ],
      "metadata": {
        "id": "E4qxDPRGvGfM"
      },
      "execution_count": 15,
      "outputs": []
    },
    {
      "cell_type": "code",
      "source": [
        "# your code here"
      ],
      "metadata": {
        "id": "RAJPkRghRaws"
      },
      "execution_count": null,
      "outputs": []
    },
    {
      "cell_type": "markdown",
      "source": [
        "# <a id='link3'>Data Preprocessing</a>"
      ],
      "metadata": {
        "id": "6-bpIH5cvGfT"
      }
    },
    {
      "cell_type": "markdown",
      "source": [
        "#### Exampes of data standardization using mean and standard deviation"
      ],
      "metadata": {
        "id": "xBPDJZ-FvGfU"
      }
    },
    {
      "cell_type": "code",
      "source": [
        "# implement 4 ways of Z score standardization\n",
        "\n",
        "# Standardization of entire data set using \"zscore\" function from scipy.stats package \n",
        "\n",
        "# Manual standardization of individual fields\n",
        "\n",
        "# Using \"zscore\" function from scipy.stats package \n",
        "\n",
        "# Using \"StandardScaler\" function from sklearn.preprocessing package - useful for machine learning models  "
      ],
      "metadata": {
        "id": "rDCHRVG4vGfU"
      },
      "execution_count": null,
      "outputs": []
    },
    {
      "cell_type": "code",
      "source": [
        "# your code here"
      ],
      "metadata": {
        "id": "8IMnhePBRs_-"
      },
      "execution_count": null,
      "outputs": []
    },
    {
      "cell_type": "code",
      "source": [
        "# View the new data set with all standardized fields"
      ],
      "metadata": {
        "id": "ZS6BrCyRvGfY"
      },
      "execution_count": 16,
      "outputs": []
    },
    {
      "cell_type": "code",
      "source": [
        "# your code here"
      ],
      "metadata": {
        "id": "utXsHyeARzc0"
      },
      "execution_count": 17,
      "outputs": []
    },
    {
      "cell_type": "markdown",
      "source": [
        "### Zscore and Standard Scalar are same."
      ],
      "metadata": {
        "id": "qURq_KJ9vGfh"
      }
    },
    {
      "cell_type": "markdown",
      "source": [
        "#### Exampes of data normalization using min and range"
      ],
      "metadata": {
        "id": "ZVZVtJ6rvGfi"
      }
    },
    {
      "cell_type": "code",
      "source": [
        "# Implement manual normalization\n",
        "\n",
        "# Using \"StandardScaler\" function from sklearn.preprocessing package - useful for machine learning models  "
      ],
      "metadata": {
        "id": "8PLUYtREvGfi"
      },
      "execution_count": 18,
      "outputs": []
    },
    {
      "cell_type": "code",
      "source": [
        "# your code here"
      ],
      "metadata": {
        "id": "2J00kxWFSA0X"
      },
      "execution_count": 19,
      "outputs": []
    },
    {
      "cell_type": "code",
      "source": [
        "# view data with normalized fields"
      ],
      "metadata": {
        "id": "6Hp_U4_BSBoS"
      },
      "execution_count": 21,
      "outputs": []
    },
    {
      "cell_type": "code",
      "source": [
        "# your code here"
      ],
      "metadata": {
        "id": "YP3WeXdBSHK9"
      },
      "execution_count": 22,
      "outputs": []
    },
    {
      "cell_type": "code",
      "source": [
        "# use describe and write down observations of original and normalized columns"
      ],
      "metadata": {
        "id": "CLcb8qnBSITv"
      },
      "execution_count": 23,
      "outputs": []
    },
    {
      "cell_type": "code",
      "source": [
        "# your code here"
      ],
      "metadata": {
        "id": "gfgoUq2TSTMt"
      },
      "execution_count": 24,
      "outputs": []
    },
    {
      "cell_type": "code",
      "source": [
        "# create normalized column Age using np.log()"
      ],
      "metadata": {
        "id": "r_Q6JYlASUQP"
      },
      "execution_count": 25,
      "outputs": []
    },
    {
      "cell_type": "code",
      "source": [
        "# your code here"
      ],
      "metadata": {
        "id": "0Wbi6c9kSaUu"
      },
      "execution_count": 26,
      "outputs": []
    },
    {
      "cell_type": "markdown",
      "source": [
        "# Appendix\n"
      ],
      "metadata": {
        "id": "NWsOOZhQDZth"
      }
    },
    {
      "cell_type": "markdown",
      "source": [
        "\n",
        "- **warnings.filterwarnings(\"ignore\")** : Never print matching warnings\n",
        "- **Pandas** : Pandas is an open source library providing high-performance, easy-to-use data structures and data analysis tools for the Python programming language.\n",
        "- **Numpy** : The fundamental package for scientific computing with Python.\n",
        "- **Matplotlib** : Matplotlib is a comprehensive library for creating static, animated, and interactive visualizations in Python.\n",
        "- **Seaborn** : Seaborn is a Python data visualization library based on matplotlib. It provides a high-level interface for drawing attractive and informative statistical graphics.\n",
        "- **scipy.stats** : This module contains a large number of probability distributions as well as a growing library of statistical functions.\n",
        "- **sklearn.preprocessing** : This package provides several common utility functions and transformer classes to change raw feature vectors into a representation that is more suitable for the downstream estimators."
      ],
      "metadata": {
        "id": "x-skexXyR7wC"
      }
    }
  ]
}