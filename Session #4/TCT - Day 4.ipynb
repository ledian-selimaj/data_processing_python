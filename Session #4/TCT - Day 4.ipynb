{
 "cells": [
  {
   "cell_type": "markdown",
   "id": "bcc8ffe1",
   "metadata": {},
   "source": [
    "## TCT Day 4 - Pandas cont'\n",
    "\n",
    "* Row and column operations\n",
    "    - rename column \n",
    "    - drop column \n",
    "    - inplace\n",
    "    - sort\n",
    "    - math operations\n",
    "    - apply\n",
    "* Group by\n"
   ]
  },
  {
   "cell_type": "code",
   "execution_count": 86,
   "id": "49d178a9",
   "metadata": {},
   "outputs": [],
   "source": [
    "import pandas as pd\n",
    "import numpy as np"
   ]
  },
  {
   "cell_type": "code",
   "execution_count": 87,
   "id": "d3c41a24",
   "metadata": {},
   "outputs": [],
   "source": [
    "#create a series\n",
    "series1=pd.Series([1,2,3,4,5])"
   ]
  },
  {
   "cell_type": "code",
   "execution_count": 88,
   "id": "a6933226",
   "metadata": {},
   "outputs": [],
   "source": [
    "#convert series to dataframe, give the column a custom name\n",
    "df=pd.DataFrame(series1,columns=['One'])"
   ]
  },
  {
   "cell_type": "code",
   "execution_count": 89,
   "id": "f1461a39",
   "metadata": {},
   "outputs": [
    {
     "data": {
      "text/html": [
       "<div>\n",
       "<style scoped>\n",
       "    .dataframe tbody tr th:only-of-type {\n",
       "        vertical-align: middle;\n",
       "    }\n",
       "\n",
       "    .dataframe tbody tr th {\n",
       "        vertical-align: top;\n",
       "    }\n",
       "\n",
       "    .dataframe thead th {\n",
       "        text-align: right;\n",
       "    }\n",
       "</style>\n",
       "<table border=\"1\" class=\"dataframe\">\n",
       "  <thead>\n",
       "    <tr style=\"text-align: right;\">\n",
       "      <th></th>\n",
       "      <th>One</th>\n",
       "    </tr>\n",
       "  </thead>\n",
       "  <tbody>\n",
       "    <tr>\n",
       "      <th>0</th>\n",
       "      <td>1</td>\n",
       "    </tr>\n",
       "    <tr>\n",
       "      <th>1</th>\n",
       "      <td>2</td>\n",
       "    </tr>\n",
       "    <tr>\n",
       "      <th>2</th>\n",
       "      <td>3</td>\n",
       "    </tr>\n",
       "    <tr>\n",
       "      <th>3</th>\n",
       "      <td>4</td>\n",
       "    </tr>\n",
       "    <tr>\n",
       "      <th>4</th>\n",
       "      <td>5</td>\n",
       "    </tr>\n",
       "  </tbody>\n",
       "</table>\n",
       "</div>"
      ],
      "text/plain": [
       "   One\n",
       "0    1\n",
       "1    2\n",
       "2    3\n",
       "3    4\n",
       "4    5"
      ]
     },
     "execution_count": 89,
     "metadata": {},
     "output_type": "execute_result"
    }
   ],
   "source": [
    "df"
   ]
  },
  {
   "cell_type": "markdown",
   "id": "277f7e69",
   "metadata": {},
   "source": [
    "**Rename Column**"
   ]
  },
  {
   "cell_type": "code",
   "execution_count": 90,
   "id": "d13d1cba",
   "metadata": {},
   "outputs": [],
   "source": [
    "#rename the column \n",
    "df.rename(columns={'One':'Column'},inplace=True)"
   ]
  },
  {
   "cell_type": "code",
   "execution_count": 91,
   "id": "332c4160",
   "metadata": {},
   "outputs": [
    {
     "data": {
      "text/html": [
       "<div>\n",
       "<style scoped>\n",
       "    .dataframe tbody tr th:only-of-type {\n",
       "        vertical-align: middle;\n",
       "    }\n",
       "\n",
       "    .dataframe tbody tr th {\n",
       "        vertical-align: top;\n",
       "    }\n",
       "\n",
       "    .dataframe thead th {\n",
       "        text-align: right;\n",
       "    }\n",
       "</style>\n",
       "<table border=\"1\" class=\"dataframe\">\n",
       "  <thead>\n",
       "    <tr style=\"text-align: right;\">\n",
       "      <th></th>\n",
       "      <th>Column</th>\n",
       "    </tr>\n",
       "  </thead>\n",
       "  <tbody>\n",
       "    <tr>\n",
       "      <th>0</th>\n",
       "      <td>1</td>\n",
       "    </tr>\n",
       "    <tr>\n",
       "      <th>1</th>\n",
       "      <td>2</td>\n",
       "    </tr>\n",
       "    <tr>\n",
       "      <th>2</th>\n",
       "      <td>3</td>\n",
       "    </tr>\n",
       "    <tr>\n",
       "      <th>3</th>\n",
       "      <td>4</td>\n",
       "    </tr>\n",
       "    <tr>\n",
       "      <th>4</th>\n",
       "      <td>5</td>\n",
       "    </tr>\n",
       "  </tbody>\n",
       "</table>\n",
       "</div>"
      ],
      "text/plain": [
       "   Column\n",
       "0       1\n",
       "1       2\n",
       "2       3\n",
       "3       4\n",
       "4       5"
      ]
     },
     "execution_count": 91,
     "metadata": {},
     "output_type": "execute_result"
    }
   ],
   "source": [
    "df"
   ]
  },
  {
   "cell_type": "code",
   "execution_count": 93,
   "id": "d9baae25",
   "metadata": {},
   "outputs": [],
   "source": [
    "#convert series to dataframe wihtout specifying column name \n",
    "df1=pd.DataFrame(series1)"
   ]
  },
  {
   "cell_type": "code",
   "execution_count": 94,
   "id": "f6aad55d",
   "metadata": {},
   "outputs": [
    {
     "data": {
      "text/html": [
       "<div>\n",
       "<style scoped>\n",
       "    .dataframe tbody tr th:only-of-type {\n",
       "        vertical-align: middle;\n",
       "    }\n",
       "\n",
       "    .dataframe tbody tr th {\n",
       "        vertical-align: top;\n",
       "    }\n",
       "\n",
       "    .dataframe thead th {\n",
       "        text-align: right;\n",
       "    }\n",
       "</style>\n",
       "<table border=\"1\" class=\"dataframe\">\n",
       "  <thead>\n",
       "    <tr style=\"text-align: right;\">\n",
       "      <th></th>\n",
       "      <th>Column</th>\n",
       "    </tr>\n",
       "  </thead>\n",
       "  <tbody>\n",
       "    <tr>\n",
       "      <th>0</th>\n",
       "      <td>1</td>\n",
       "    </tr>\n",
       "    <tr>\n",
       "      <th>1</th>\n",
       "      <td>2</td>\n",
       "    </tr>\n",
       "    <tr>\n",
       "      <th>2</th>\n",
       "      <td>3</td>\n",
       "    </tr>\n",
       "    <tr>\n",
       "      <th>3</th>\n",
       "      <td>4</td>\n",
       "    </tr>\n",
       "    <tr>\n",
       "      <th>4</th>\n",
       "      <td>5</td>\n",
       "    </tr>\n",
       "  </tbody>\n",
       "</table>\n",
       "</div>"
      ],
      "text/plain": [
       "   Column\n",
       "0       1\n",
       "1       2\n",
       "2       3\n",
       "3       4\n",
       "4       5"
      ]
     },
     "execution_count": 94,
     "metadata": {},
     "output_type": "execute_result"
    }
   ],
   "source": [
    "#rename the column \n",
    "df1.rename(columns={0:'Column'})"
   ]
  },
  {
   "cell_type": "markdown",
   "id": "ac73fd40",
   "metadata": {},
   "source": [
    "**Drop Column**"
   ]
  },
  {
   "cell_type": "code",
   "execution_count": 95,
   "id": "e273a557",
   "metadata": {},
   "outputs": [],
   "source": [
    "#drop the column \n",
    "df1.drop(columns={0},inplace=True)"
   ]
  },
  {
   "cell_type": "code",
   "execution_count": 96,
   "id": "2fbce50f",
   "metadata": {},
   "outputs": [
    {
     "data": {
      "text/html": [
       "<div>\n",
       "<style scoped>\n",
       "    .dataframe tbody tr th:only-of-type {\n",
       "        vertical-align: middle;\n",
       "    }\n",
       "\n",
       "    .dataframe tbody tr th {\n",
       "        vertical-align: top;\n",
       "    }\n",
       "\n",
       "    .dataframe thead th {\n",
       "        text-align: right;\n",
       "    }\n",
       "</style>\n",
       "<table border=\"1\" class=\"dataframe\">\n",
       "  <thead>\n",
       "    <tr style=\"text-align: right;\">\n",
       "      <th></th>\n",
       "    </tr>\n",
       "  </thead>\n",
       "  <tbody>\n",
       "    <tr>\n",
       "      <th>0</th>\n",
       "    </tr>\n",
       "    <tr>\n",
       "      <th>1</th>\n",
       "    </tr>\n",
       "    <tr>\n",
       "      <th>2</th>\n",
       "    </tr>\n",
       "    <tr>\n",
       "      <th>3</th>\n",
       "    </tr>\n",
       "    <tr>\n",
       "      <th>4</th>\n",
       "    </tr>\n",
       "  </tbody>\n",
       "</table>\n",
       "</div>"
      ],
      "text/plain": [
       "Empty DataFrame\n",
       "Columns: []\n",
       "Index: [0, 1, 2, 3, 4]"
      ]
     },
     "execution_count": 96,
     "metadata": {},
     "output_type": "execute_result"
    }
   ],
   "source": [
    "df1"
   ]
  },
  {
   "cell_type": "code",
   "execution_count": 97,
   "id": "4b4d831f",
   "metadata": {},
   "outputs": [],
   "source": [
    "#drop entire dataframe\n",
    "del df1"
   ]
  },
  {
   "cell_type": "code",
   "execution_count": 98,
   "id": "7d7cef03",
   "metadata": {},
   "outputs": [
    {
     "ename": "NameError",
     "evalue": "name 'df1' is not defined",
     "output_type": "error",
     "traceback": [
      "\u001b[1;31m---------------------------------------------------------------------------\u001b[0m",
      "\u001b[1;31mNameError\u001b[0m                                 Traceback (most recent call last)",
      "\u001b[1;32m<ipython-input-98-6a861a8b3f1a>\u001b[0m in \u001b[0;36m<module>\u001b[1;34m\u001b[0m\n\u001b[1;32m----> 1\u001b[1;33m \u001b[0mdf1\u001b[0m\u001b[1;33m\u001b[0m\u001b[1;33m\u001b[0m\u001b[0m\n\u001b[0m",
      "\u001b[1;31mNameError\u001b[0m: name 'df1' is not defined"
     ]
    }
   ],
   "source": [
    "df1"
   ]
  },
  {
   "cell_type": "code",
   "execution_count": 101,
   "id": "48774fc2",
   "metadata": {},
   "outputs": [
    {
     "data": {
      "text/html": [
       "<div>\n",
       "<style scoped>\n",
       "    .dataframe tbody tr th:only-of-type {\n",
       "        vertical-align: middle;\n",
       "    }\n",
       "\n",
       "    .dataframe tbody tr th {\n",
       "        vertical-align: top;\n",
       "    }\n",
       "\n",
       "    .dataframe thead th {\n",
       "        text-align: right;\n",
       "    }\n",
       "</style>\n",
       "<table border=\"1\" class=\"dataframe\">\n",
       "  <thead>\n",
       "    <tr style=\"text-align: right;\">\n",
       "      <th></th>\n",
       "      <th>0</th>\n",
       "    </tr>\n",
       "  </thead>\n",
       "  <tbody>\n",
       "    <tr>\n",
       "      <th>0</th>\n",
       "      <td>1</td>\n",
       "    </tr>\n",
       "    <tr>\n",
       "      <th>1</th>\n",
       "      <td>2</td>\n",
       "    </tr>\n",
       "    <tr>\n",
       "      <th>2</th>\n",
       "      <td>3</td>\n",
       "    </tr>\n",
       "    <tr>\n",
       "      <th>3</th>\n",
       "      <td>4</td>\n",
       "    </tr>\n",
       "    <tr>\n",
       "      <th>4</th>\n",
       "      <td>5</td>\n",
       "    </tr>\n",
       "  </tbody>\n",
       "</table>\n",
       "</div>"
      ],
      "text/plain": [
       "   0\n",
       "0  1\n",
       "1  2\n",
       "2  3\n",
       "3  4\n",
       "4  5"
      ]
     },
     "execution_count": 101,
     "metadata": {},
     "output_type": "execute_result"
    }
   ],
   "source": [
    "#convert series to dataframe wihtout specifying column name \n",
    "df2=pd.DataFrame(series1)\n",
    "df2"
   ]
  },
  {
   "cell_type": "markdown",
   "id": "9c6bd1e1",
   "metadata": {},
   "source": [
    "**inplace**\n",
    "\n",
    "If inplace=True is passed in a pandas function, the application is returned to the dataframe and saved. Therefore the dataframe changes have been saved. You don't need to assign a new dataframe to the change.\n",
    "\n",
    "The dafault setting is False, meaning if you don't assign a new dataframe on the step you apply the function, your changes are not saved for the next executable line. "
   ]
  },
  {
   "cell_type": "code",
   "execution_count": 102,
   "id": "cb5e64bc",
   "metadata": {},
   "outputs": [],
   "source": [
    "#drop column using axis\n",
    "df2.drop([0],axis=1,inplace=True)"
   ]
  },
  {
   "cell_type": "code",
   "execution_count": 103,
   "id": "0178a486",
   "metadata": {},
   "outputs": [
    {
     "data": {
      "text/html": [
       "<div>\n",
       "<style scoped>\n",
       "    .dataframe tbody tr th:only-of-type {\n",
       "        vertical-align: middle;\n",
       "    }\n",
       "\n",
       "    .dataframe tbody tr th {\n",
       "        vertical-align: top;\n",
       "    }\n",
       "\n",
       "    .dataframe thead th {\n",
       "        text-align: right;\n",
       "    }\n",
       "</style>\n",
       "<table border=\"1\" class=\"dataframe\">\n",
       "  <thead>\n",
       "    <tr style=\"text-align: right;\">\n",
       "      <th></th>\n",
       "    </tr>\n",
       "  </thead>\n",
       "  <tbody>\n",
       "    <tr>\n",
       "      <th>0</th>\n",
       "    </tr>\n",
       "    <tr>\n",
       "      <th>1</th>\n",
       "    </tr>\n",
       "    <tr>\n",
       "      <th>2</th>\n",
       "    </tr>\n",
       "    <tr>\n",
       "      <th>3</th>\n",
       "    </tr>\n",
       "    <tr>\n",
       "      <th>4</th>\n",
       "    </tr>\n",
       "  </tbody>\n",
       "</table>\n",
       "</div>"
      ],
      "text/plain": [
       "Empty DataFrame\n",
       "Columns: []\n",
       "Index: [0, 1, 2, 3, 4]"
      ]
     },
     "execution_count": 103,
     "metadata": {},
     "output_type": "execute_result"
    }
   ],
   "source": [
    "df2"
   ]
  },
  {
   "cell_type": "code",
   "execution_count": 104,
   "id": "ce1a9c17",
   "metadata": {},
   "outputs": [],
   "source": [
    "del df2"
   ]
  },
  {
   "cell_type": "code",
   "execution_count": 107,
   "id": "0d76d034",
   "metadata": {},
   "outputs": [],
   "source": [
    "#create a matrix 5x5 with randon numbers, custom label all columns \n",
    "df3 = pd.DataFrame(np.random.randn(5,5),columns=['One','Two','Three','Four','Five'])"
   ]
  },
  {
   "cell_type": "code",
   "execution_count": 108,
   "id": "685f4118",
   "metadata": {},
   "outputs": [
    {
     "data": {
      "text/html": [
       "<div>\n",
       "<style scoped>\n",
       "    .dataframe tbody tr th:only-of-type {\n",
       "        vertical-align: middle;\n",
       "    }\n",
       "\n",
       "    .dataframe tbody tr th {\n",
       "        vertical-align: top;\n",
       "    }\n",
       "\n",
       "    .dataframe thead th {\n",
       "        text-align: right;\n",
       "    }\n",
       "</style>\n",
       "<table border=\"1\" class=\"dataframe\">\n",
       "  <thead>\n",
       "    <tr style=\"text-align: right;\">\n",
       "      <th></th>\n",
       "      <th>One</th>\n",
       "      <th>Two</th>\n",
       "      <th>Three</th>\n",
       "      <th>Four</th>\n",
       "      <th>Five</th>\n",
       "    </tr>\n",
       "  </thead>\n",
       "  <tbody>\n",
       "    <tr>\n",
       "      <th>0</th>\n",
       "      <td>0.986118</td>\n",
       "      <td>0.274728</td>\n",
       "      <td>0.103965</td>\n",
       "      <td>1.599914</td>\n",
       "      <td>-0.177736</td>\n",
       "    </tr>\n",
       "    <tr>\n",
       "      <th>1</th>\n",
       "      <td>0.601669</td>\n",
       "      <td>1.118193</td>\n",
       "      <td>-1.129709</td>\n",
       "      <td>-0.396420</td>\n",
       "      <td>0.095995</td>\n",
       "    </tr>\n",
       "    <tr>\n",
       "      <th>2</th>\n",
       "      <td>0.714110</td>\n",
       "      <td>0.437615</td>\n",
       "      <td>1.183711</td>\n",
       "      <td>0.208399</td>\n",
       "      <td>-0.984456</td>\n",
       "    </tr>\n",
       "    <tr>\n",
       "      <th>3</th>\n",
       "      <td>1.661097</td>\n",
       "      <td>1.236294</td>\n",
       "      <td>-0.536210</td>\n",
       "      <td>0.701689</td>\n",
       "      <td>-0.881434</td>\n",
       "    </tr>\n",
       "    <tr>\n",
       "      <th>4</th>\n",
       "      <td>-0.346728</td>\n",
       "      <td>-1.486016</td>\n",
       "      <td>0.276715</td>\n",
       "      <td>0.899385</td>\n",
       "      <td>-0.242986</td>\n",
       "    </tr>\n",
       "  </tbody>\n",
       "</table>\n",
       "</div>"
      ],
      "text/plain": [
       "        One       Two     Three      Four      Five\n",
       "0  0.986118  0.274728  0.103965  1.599914 -0.177736\n",
       "1  0.601669  1.118193 -1.129709 -0.396420  0.095995\n",
       "2  0.714110  0.437615  1.183711  0.208399 -0.984456\n",
       "3  1.661097  1.236294 -0.536210  0.701689 -0.881434\n",
       "4 -0.346728 -1.486016  0.276715  0.899385 -0.242986"
      ]
     },
     "execution_count": 108,
     "metadata": {},
     "output_type": "execute_result"
    }
   ],
   "source": [
    "df3"
   ]
  },
  {
   "cell_type": "markdown",
   "id": "52afa4fe",
   "metadata": {},
   "source": [
    "**Sort Columns**"
   ]
  },
  {
   "cell_type": "code",
   "execution_count": 110,
   "id": "c734461f",
   "metadata": {},
   "outputs": [],
   "source": [
    "#sort columns by one of more columns, use ascending False for descending order \n",
    "df3.sort_values(by=['One','Two'],ascending=False,inplace=True)"
   ]
  },
  {
   "cell_type": "code",
   "execution_count": 111,
   "id": "0b784e77",
   "metadata": {},
   "outputs": [
    {
     "data": {
      "text/html": [
       "<div>\n",
       "<style scoped>\n",
       "    .dataframe tbody tr th:only-of-type {\n",
       "        vertical-align: middle;\n",
       "    }\n",
       "\n",
       "    .dataframe tbody tr th {\n",
       "        vertical-align: top;\n",
       "    }\n",
       "\n",
       "    .dataframe thead th {\n",
       "        text-align: right;\n",
       "    }\n",
       "</style>\n",
       "<table border=\"1\" class=\"dataframe\">\n",
       "  <thead>\n",
       "    <tr style=\"text-align: right;\">\n",
       "      <th></th>\n",
       "      <th>One</th>\n",
       "      <th>Two</th>\n",
       "      <th>Three</th>\n",
       "      <th>Four</th>\n",
       "      <th>Five</th>\n",
       "    </tr>\n",
       "  </thead>\n",
       "  <tbody>\n",
       "    <tr>\n",
       "      <th>3</th>\n",
       "      <td>1.661097</td>\n",
       "      <td>1.236294</td>\n",
       "      <td>-0.536210</td>\n",
       "      <td>0.701689</td>\n",
       "      <td>-0.881434</td>\n",
       "    </tr>\n",
       "    <tr>\n",
       "      <th>0</th>\n",
       "      <td>0.986118</td>\n",
       "      <td>0.274728</td>\n",
       "      <td>0.103965</td>\n",
       "      <td>1.599914</td>\n",
       "      <td>-0.177736</td>\n",
       "    </tr>\n",
       "    <tr>\n",
       "      <th>2</th>\n",
       "      <td>0.714110</td>\n",
       "      <td>0.437615</td>\n",
       "      <td>1.183711</td>\n",
       "      <td>0.208399</td>\n",
       "      <td>-0.984456</td>\n",
       "    </tr>\n",
       "    <tr>\n",
       "      <th>1</th>\n",
       "      <td>0.601669</td>\n",
       "      <td>1.118193</td>\n",
       "      <td>-1.129709</td>\n",
       "      <td>-0.396420</td>\n",
       "      <td>0.095995</td>\n",
       "    </tr>\n",
       "    <tr>\n",
       "      <th>4</th>\n",
       "      <td>-0.346728</td>\n",
       "      <td>-1.486016</td>\n",
       "      <td>0.276715</td>\n",
       "      <td>0.899385</td>\n",
       "      <td>-0.242986</td>\n",
       "    </tr>\n",
       "  </tbody>\n",
       "</table>\n",
       "</div>"
      ],
      "text/plain": [
       "        One       Two     Three      Four      Five\n",
       "3  1.661097  1.236294 -0.536210  0.701689 -0.881434\n",
       "0  0.986118  0.274728  0.103965  1.599914 -0.177736\n",
       "2  0.714110  0.437615  1.183711  0.208399 -0.984456\n",
       "1  0.601669  1.118193 -1.129709 -0.396420  0.095995\n",
       "4 -0.346728 -1.486016  0.276715  0.899385 -0.242986"
      ]
     },
     "execution_count": 111,
     "metadata": {},
     "output_type": "execute_result"
    }
   ],
   "source": [
    "df3"
   ]
  },
  {
   "cell_type": "markdown",
   "id": "ecc1656f",
   "metadata": {},
   "source": [
    "**Basic Math Operations in Column**"
   ]
  },
  {
   "cell_type": "code",
   "execution_count": 113,
   "id": "358c9563",
   "metadata": {},
   "outputs": [
    {
     "data": {
      "text/plain": [
       "One      0.723253\n",
       "Two      0.316163\n",
       "Three   -0.020305\n",
       "Four     0.602593\n",
       "Five    -0.438124\n",
       "dtype: float64"
      ]
     },
     "execution_count": 113,
     "metadata": {},
     "output_type": "execute_result"
    }
   ],
   "source": [
    "#calculcate mean for all columns in df3\n",
    "df3.mean()"
   ]
  },
  {
   "cell_type": "code",
   "execution_count": 115,
   "id": "9a7f6540",
   "metadata": {},
   "outputs": [
    {
     "data": {
      "text/plain": [
       "One      3.616267\n",
       "Two      1.580814\n",
       "Three   -0.101527\n",
       "Four     3.012967\n",
       "Five    -2.190618\n",
       "dtype: float64"
      ]
     },
     "execution_count": 115,
     "metadata": {},
     "output_type": "execute_result"
    }
   ],
   "source": [
    "#calculcate sum for all columns in df3\n",
    "df3.sum()"
   ]
  },
  {
   "cell_type": "code",
   "execution_count": 116,
   "id": "6ceee0f0",
   "metadata": {},
   "outputs": [
    {
     "data": {
      "text/plain": [
       "One      5\n",
       "Two      5\n",
       "Three    5\n",
       "Four     5\n",
       "Five     5\n",
       "dtype: int64"
      ]
     },
     "execution_count": 116,
     "metadata": {},
     "output_type": "execute_result"
    }
   ],
   "source": [
    "#count number of values in all columns in df3\n",
    "df3.count()"
   ]
  },
  {
   "cell_type": "code",
   "execution_count": 117,
   "id": "f03a9836",
   "metadata": {},
   "outputs": [
    {
     "data": {
      "text/plain": [
       "One     -0.346728\n",
       "Two     -1.486016\n",
       "Three   -1.129709\n",
       "Four    -0.396420\n",
       "Five    -0.984456\n",
       "dtype: float64"
      ]
     },
     "execution_count": 117,
     "metadata": {},
     "output_type": "execute_result"
    }
   ],
   "source": [
    "#calculcate min for all columns in df3\n",
    "df3.min()"
   ]
  },
  {
   "cell_type": "code",
   "execution_count": 118,
   "id": "a9c663fd",
   "metadata": {},
   "outputs": [
    {
     "data": {
      "text/plain": [
       "1.6610973660808481"
      ]
     },
     "execution_count": 118,
     "metadata": {},
     "output_type": "execute_result"
    }
   ],
   "source": [
    "#calculcate max for a specific column in df3\n",
    "df3.iloc[:,0].max()"
   ]
  },
  {
   "cell_type": "markdown",
   "id": "d1984284",
   "metadata": {},
   "source": [
    "**Exercise, apply()**"
   ]
  },
  {
   "cell_type": "code",
   "execution_count": 119,
   "id": "f51f8a62",
   "metadata": {},
   "outputs": [],
   "source": [
    "#create one function that multuplies all values of a column in df3 with 0.5"
   ]
  },
  {
   "cell_type": "code",
   "execution_count": 121,
   "id": "f61f6229",
   "metadata": {},
   "outputs": [],
   "source": [
    "def function(s):\n",
    "    return s*0.5"
   ]
  },
  {
   "cell_type": "code",
   "execution_count": 122,
   "id": "6878565d",
   "metadata": {},
   "outputs": [
    {
     "data": {
      "text/plain": [
       "3    0.830549\n",
       "0    0.493059\n",
       "2    0.357055\n",
       "1    0.300835\n",
       "4   -0.173364\n",
       "Name: One, dtype: float64"
      ]
     },
     "execution_count": 122,
     "metadata": {},
     "output_type": "execute_result"
    }
   ],
   "source": [
    "df3['One'].apply(function)"
   ]
  },
  {
   "cell_type": "code",
   "execution_count": 123,
   "id": "5f432256",
   "metadata": {},
   "outputs": [
    {
     "data": {
      "text/plain": [
       "One      5\n",
       "Two      5\n",
       "Three    5\n",
       "Four     5\n",
       "Five     5\n",
       "dtype: int64"
      ]
     },
     "execution_count": 123,
     "metadata": {},
     "output_type": "execute_result"
    }
   ],
   "source": [
    "#get the number of elements in all columns in df3 usung apply()\n",
    "df3.apply(len)"
   ]
  },
  {
   "cell_type": "code",
   "execution_count": 124,
   "id": "121d91a6",
   "metadata": {},
   "outputs": [
    {
     "data": {
      "text/html": [
       "<div>\n",
       "<style scoped>\n",
       "    .dataframe tbody tr th:only-of-type {\n",
       "        vertical-align: middle;\n",
       "    }\n",
       "\n",
       "    .dataframe tbody tr th {\n",
       "        vertical-align: top;\n",
       "    }\n",
       "\n",
       "    .dataframe thead th {\n",
       "        text-align: right;\n",
       "    }\n",
       "</style>\n",
       "<table border=\"1\" class=\"dataframe\">\n",
       "  <thead>\n",
       "    <tr style=\"text-align: right;\">\n",
       "      <th></th>\n",
       "      <th>One</th>\n",
       "      <th>Two</th>\n",
       "      <th>Three</th>\n",
       "      <th>Four</th>\n",
       "      <th>Five</th>\n",
       "    </tr>\n",
       "  </thead>\n",
       "  <tbody>\n",
       "    <tr>\n",
       "      <th>3</th>\n",
       "      <td>1.661097</td>\n",
       "      <td>1.236294</td>\n",
       "      <td>-0.536210</td>\n",
       "      <td>0.701689</td>\n",
       "      <td>-0.881434</td>\n",
       "    </tr>\n",
       "    <tr>\n",
       "      <th>0</th>\n",
       "      <td>0.986118</td>\n",
       "      <td>0.274728</td>\n",
       "      <td>0.103965</td>\n",
       "      <td>1.599914</td>\n",
       "      <td>-0.177736</td>\n",
       "    </tr>\n",
       "    <tr>\n",
       "      <th>2</th>\n",
       "      <td>0.714110</td>\n",
       "      <td>0.437615</td>\n",
       "      <td>1.183711</td>\n",
       "      <td>0.208399</td>\n",
       "      <td>-0.984456</td>\n",
       "    </tr>\n",
       "    <tr>\n",
       "      <th>1</th>\n",
       "      <td>0.601669</td>\n",
       "      <td>1.118193</td>\n",
       "      <td>-1.129709</td>\n",
       "      <td>-0.396420</td>\n",
       "      <td>0.095995</td>\n",
       "    </tr>\n",
       "    <tr>\n",
       "      <th>4</th>\n",
       "      <td>-0.346728</td>\n",
       "      <td>-1.486016</td>\n",
       "      <td>0.276715</td>\n",
       "      <td>0.899385</td>\n",
       "      <td>-0.242986</td>\n",
       "    </tr>\n",
       "  </tbody>\n",
       "</table>\n",
       "</div>"
      ],
      "text/plain": [
       "        One       Two     Three      Four      Five\n",
       "3  1.661097  1.236294 -0.536210  0.701689 -0.881434\n",
       "0  0.986118  0.274728  0.103965  1.599914 -0.177736\n",
       "2  0.714110  0.437615  1.183711  0.208399 -0.984456\n",
       "1  0.601669  1.118193 -1.129709 -0.396420  0.095995\n",
       "4 -0.346728 -1.486016  0.276715  0.899385 -0.242986"
      ]
     },
     "execution_count": 124,
     "metadata": {},
     "output_type": "execute_result"
    }
   ],
   "source": [
    "df3"
   ]
  },
  {
   "cell_type": "markdown",
   "id": "b8c2435b",
   "metadata": {},
   "source": [
    "**Group by**"
   ]
  },
  {
   "cell_type": "code",
   "execution_count": 125,
   "id": "67bdce4a",
   "metadata": {},
   "outputs": [],
   "source": [
    "#create new column as a category\n",
    "df3['Category']=['Cat1','Cat1','Cat2','Cat1','Cat2']"
   ]
  },
  {
   "cell_type": "code",
   "execution_count": 126,
   "id": "5a322f81",
   "metadata": {},
   "outputs": [
    {
     "data": {
      "text/html": [
       "<div>\n",
       "<style scoped>\n",
       "    .dataframe tbody tr th:only-of-type {\n",
       "        vertical-align: middle;\n",
       "    }\n",
       "\n",
       "    .dataframe tbody tr th {\n",
       "        vertical-align: top;\n",
       "    }\n",
       "\n",
       "    .dataframe thead th {\n",
       "        text-align: right;\n",
       "    }\n",
       "</style>\n",
       "<table border=\"1\" class=\"dataframe\">\n",
       "  <thead>\n",
       "    <tr style=\"text-align: right;\">\n",
       "      <th></th>\n",
       "      <th>One</th>\n",
       "      <th>Two</th>\n",
       "      <th>Three</th>\n",
       "      <th>Four</th>\n",
       "      <th>Five</th>\n",
       "      <th>Category</th>\n",
       "    </tr>\n",
       "  </thead>\n",
       "  <tbody>\n",
       "    <tr>\n",
       "      <th>3</th>\n",
       "      <td>1.661097</td>\n",
       "      <td>1.236294</td>\n",
       "      <td>-0.536210</td>\n",
       "      <td>0.701689</td>\n",
       "      <td>-0.881434</td>\n",
       "      <td>Cat1</td>\n",
       "    </tr>\n",
       "    <tr>\n",
       "      <th>0</th>\n",
       "      <td>0.986118</td>\n",
       "      <td>0.274728</td>\n",
       "      <td>0.103965</td>\n",
       "      <td>1.599914</td>\n",
       "      <td>-0.177736</td>\n",
       "      <td>Cat1</td>\n",
       "    </tr>\n",
       "    <tr>\n",
       "      <th>2</th>\n",
       "      <td>0.714110</td>\n",
       "      <td>0.437615</td>\n",
       "      <td>1.183711</td>\n",
       "      <td>0.208399</td>\n",
       "      <td>-0.984456</td>\n",
       "      <td>Cat2</td>\n",
       "    </tr>\n",
       "    <tr>\n",
       "      <th>1</th>\n",
       "      <td>0.601669</td>\n",
       "      <td>1.118193</td>\n",
       "      <td>-1.129709</td>\n",
       "      <td>-0.396420</td>\n",
       "      <td>0.095995</td>\n",
       "      <td>Cat1</td>\n",
       "    </tr>\n",
       "    <tr>\n",
       "      <th>4</th>\n",
       "      <td>-0.346728</td>\n",
       "      <td>-1.486016</td>\n",
       "      <td>0.276715</td>\n",
       "      <td>0.899385</td>\n",
       "      <td>-0.242986</td>\n",
       "      <td>Cat2</td>\n",
       "    </tr>\n",
       "  </tbody>\n",
       "</table>\n",
       "</div>"
      ],
      "text/plain": [
       "        One       Two     Three      Four      Five Category\n",
       "3  1.661097  1.236294 -0.536210  0.701689 -0.881434     Cat1\n",
       "0  0.986118  0.274728  0.103965  1.599914 -0.177736     Cat1\n",
       "2  0.714110  0.437615  1.183711  0.208399 -0.984456     Cat2\n",
       "1  0.601669  1.118193 -1.129709 -0.396420  0.095995     Cat1\n",
       "4 -0.346728 -1.486016  0.276715  0.899385 -0.242986     Cat2"
      ]
     },
     "execution_count": 126,
     "metadata": {},
     "output_type": "execute_result"
    }
   ],
   "source": [
    "df3"
   ]
  },
  {
   "cell_type": "code",
   "execution_count": 133,
   "id": "19477420",
   "metadata": {},
   "outputs": [],
   "source": [
    "#group by sum function on Category column for all columns in df3\n",
    "df4=df3.groupby('Category').sum()"
   ]
  },
  {
   "cell_type": "code",
   "execution_count": 134,
   "id": "931103c5",
   "metadata": {},
   "outputs": [
    {
     "data": {
      "text/html": [
       "<div>\n",
       "<style scoped>\n",
       "    .dataframe tbody tr th:only-of-type {\n",
       "        vertical-align: middle;\n",
       "    }\n",
       "\n",
       "    .dataframe tbody tr th {\n",
       "        vertical-align: top;\n",
       "    }\n",
       "\n",
       "    .dataframe thead th {\n",
       "        text-align: right;\n",
       "    }\n",
       "</style>\n",
       "<table border=\"1\" class=\"dataframe\">\n",
       "  <thead>\n",
       "    <tr style=\"text-align: right;\">\n",
       "      <th></th>\n",
       "      <th>One</th>\n",
       "      <th>Two</th>\n",
       "      <th>Three</th>\n",
       "      <th>Four</th>\n",
       "      <th>Five</th>\n",
       "    </tr>\n",
       "    <tr>\n",
       "      <th>Category</th>\n",
       "      <th></th>\n",
       "      <th></th>\n",
       "      <th></th>\n",
       "      <th></th>\n",
       "      <th></th>\n",
       "    </tr>\n",
       "  </thead>\n",
       "  <tbody>\n",
       "    <tr>\n",
       "      <th>Cat1</th>\n",
       "      <td>3.248885</td>\n",
       "      <td>2.629215</td>\n",
       "      <td>-1.561953</td>\n",
       "      <td>1.905183</td>\n",
       "      <td>-0.963176</td>\n",
       "    </tr>\n",
       "    <tr>\n",
       "      <th>Cat2</th>\n",
       "      <td>0.367382</td>\n",
       "      <td>-1.048401</td>\n",
       "      <td>1.460426</td>\n",
       "      <td>1.107784</td>\n",
       "      <td>-1.227442</td>\n",
       "    </tr>\n",
       "  </tbody>\n",
       "</table>\n",
       "</div>"
      ],
      "text/plain": [
       "               One       Two     Three      Four      Five\n",
       "Category                                                  \n",
       "Cat1      3.248885  2.629215 -1.561953  1.905183 -0.963176\n",
       "Cat2      0.367382 -1.048401  1.460426  1.107784 -1.227442"
      ]
     },
     "execution_count": 134,
     "metadata": {},
     "output_type": "execute_result"
    }
   ],
   "source": [
    "df4"
   ]
  },
  {
   "cell_type": "code",
   "execution_count": 135,
   "id": "3cf925cf",
   "metadata": {},
   "outputs": [],
   "source": [
    "#group by many aggregations functions on Category column on for column One\n",
    "df4=df3.groupby('Category')['One'].agg(['sum','count','mean'])"
   ]
  },
  {
   "cell_type": "code",
   "execution_count": 136,
   "id": "bcd6441c",
   "metadata": {},
   "outputs": [
    {
     "data": {
      "text/html": [
       "<div>\n",
       "<style scoped>\n",
       "    .dataframe tbody tr th:only-of-type {\n",
       "        vertical-align: middle;\n",
       "    }\n",
       "\n",
       "    .dataframe tbody tr th {\n",
       "        vertical-align: top;\n",
       "    }\n",
       "\n",
       "    .dataframe thead th {\n",
       "        text-align: right;\n",
       "    }\n",
       "</style>\n",
       "<table border=\"1\" class=\"dataframe\">\n",
       "  <thead>\n",
       "    <tr style=\"text-align: right;\">\n",
       "      <th></th>\n",
       "      <th>sum</th>\n",
       "      <th>count</th>\n",
       "      <th>mean</th>\n",
       "    </tr>\n",
       "    <tr>\n",
       "      <th>Category</th>\n",
       "      <th></th>\n",
       "      <th></th>\n",
       "      <th></th>\n",
       "    </tr>\n",
       "  </thead>\n",
       "  <tbody>\n",
       "    <tr>\n",
       "      <th>Cat1</th>\n",
       "      <td>3.248885</td>\n",
       "      <td>3</td>\n",
       "      <td>1.082962</td>\n",
       "    </tr>\n",
       "    <tr>\n",
       "      <th>Cat2</th>\n",
       "      <td>0.367382</td>\n",
       "      <td>2</td>\n",
       "      <td>0.183691</td>\n",
       "    </tr>\n",
       "  </tbody>\n",
       "</table>\n",
       "</div>"
      ],
      "text/plain": [
       "               sum  count      mean\n",
       "Category                           \n",
       "Cat1      3.248885      3  1.082962\n",
       "Cat2      0.367382      2  0.183691"
      ]
     },
     "execution_count": 136,
     "metadata": {},
     "output_type": "execute_result"
    }
   ],
   "source": [
    "df4"
   ]
  },
  {
   "cell_type": "code",
   "execution_count": 147,
   "id": "48669904",
   "metadata": {},
   "outputs": [],
   "source": [
    "#rename aggregation function on a column\n",
    "df4=df3.groupby(\"Category\").agg({'One': [('new column name', 'sum')]})"
   ]
  },
  {
   "cell_type": "code",
   "execution_count": 148,
   "id": "a5987cea",
   "metadata": {},
   "outputs": [
    {
     "data": {
      "text/html": [
       "<div>\n",
       "<style scoped>\n",
       "    .dataframe tbody tr th:only-of-type {\n",
       "        vertical-align: middle;\n",
       "    }\n",
       "\n",
       "    .dataframe tbody tr th {\n",
       "        vertical-align: top;\n",
       "    }\n",
       "\n",
       "    .dataframe thead tr th {\n",
       "        text-align: left;\n",
       "    }\n",
       "\n",
       "    .dataframe thead tr:last-of-type th {\n",
       "        text-align: right;\n",
       "    }\n",
       "</style>\n",
       "<table border=\"1\" class=\"dataframe\">\n",
       "  <thead>\n",
       "    <tr>\n",
       "      <th></th>\n",
       "      <th>One</th>\n",
       "    </tr>\n",
       "    <tr>\n",
       "      <th></th>\n",
       "      <th>new column name</th>\n",
       "    </tr>\n",
       "    <tr>\n",
       "      <th>Category</th>\n",
       "      <th></th>\n",
       "    </tr>\n",
       "  </thead>\n",
       "  <tbody>\n",
       "    <tr>\n",
       "      <th>Cat1</th>\n",
       "      <td>3.248885</td>\n",
       "    </tr>\n",
       "    <tr>\n",
       "      <th>Cat2</th>\n",
       "      <td>0.367382</td>\n",
       "    </tr>\n",
       "  </tbody>\n",
       "</table>\n",
       "</div>"
      ],
      "text/plain": [
       "                     One\n",
       "         new column name\n",
       "Category                \n",
       "Cat1            3.248885\n",
       "Cat2            0.367382"
      ]
     },
     "execution_count": 148,
     "metadata": {},
     "output_type": "execute_result"
    }
   ],
   "source": [
    "df4"
   ]
  },
  {
   "cell_type": "code",
   "execution_count": 137,
   "id": "71db7d55",
   "metadata": {},
   "outputs": [],
   "source": [
    "#get aggregation frunction from describe()\n",
    "df4=df3.groupby('Category')['One'].describe()['count']"
   ]
  },
  {
   "cell_type": "code",
   "execution_count": 138,
   "id": "209c68e2",
   "metadata": {},
   "outputs": [
    {
     "data": {
      "text/plain": [
       "Category\n",
       "Cat1    3.0\n",
       "Cat2    2.0\n",
       "Name: count, dtype: float64"
      ]
     },
     "execution_count": 138,
     "metadata": {},
     "output_type": "execute_result"
    }
   ],
   "source": [
    "df4"
   ]
  },
  {
   "cell_type": "code",
   "execution_count": 141,
   "id": "4913ac7a",
   "metadata": {},
   "outputs": [],
   "source": [
    "df4=df3.groupby('Category')['One'].sum()"
   ]
  },
  {
   "cell_type": "code",
   "execution_count": 142,
   "id": "a6f1d91a",
   "metadata": {},
   "outputs": [
    {
     "data": {
      "text/plain": [
       "Category\n",
       "Cat1    3.248885\n",
       "Cat2    0.367382\n",
       "Name: One, dtype: float64"
      ]
     },
     "execution_count": 142,
     "metadata": {},
     "output_type": "execute_result"
    }
   ],
   "source": [
    "df4"
   ]
  }
 ],
 "metadata": {
  "kernelspec": {
   "display_name": "Python 3",
   "language": "python",
   "name": "python3"
  },
  "language_info": {
   "codemirror_mode": {
    "name": "ipython",
    "version": 3
   },
   "file_extension": ".py",
   "mimetype": "text/x-python",
   "name": "python",
   "nbconvert_exporter": "python",
   "pygments_lexer": "ipython3",
   "version": "3.8.8"
  }
 },
 "nbformat": 4,
 "nbformat_minor": 5
}
