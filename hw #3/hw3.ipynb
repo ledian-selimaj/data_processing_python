{
 "cells": [
  {
   "cell_type": "markdown",
   "metadata": {
    "id": "DBcX05TS73uH"
   },
   "source": [
    "## Case study  - Uber Data Analysis\n",
    "\n",
    "\n",
    "#### Dataset - \n",
    "There are two datasets to be used here. The dataset contains-\n",
    "\n",
    "**Uberdrive.csv**\n",
    "- Trip_Id - Id for the trip\n",
    "- Start Date - the date and time of the start of the trip\n",
    "- End Date - the date and time of the end of the trip\n",
    "- Start Location - staring location of the trip \n",
    "- End Location  - location where the trip ended\n",
    "- Purpose of drive - Purpose of the trip (Business, Personal, Meals, Errands, Meetings, Customer Support etc.)\n",
    "\n",
    "\n",
    "**Uberdrive_Miles.csv**\n",
    "- Trip_Id - Id for the trip\n",
    "- Miles Driven  - Total miles driven between the start and the end of the trip\n",
    "\n",
    "----------------------\n",
    " #### Concepts To cover \n",
    "----------------------\n",
    "- 1. <a href = #link1>Overview of the data at hand</a>\n",
    "- 2. <a href = #link3>Filtering Data</a> \n",
    "- 3. <a href = #link2>Data profiling and the functions offered by pandas for understanding the data</a>\n",
    "- 4. <a href = #link4>DateTime operations</a> \n",
    "\n",
    "\n"
   ]
  },
  {
   "cell_type": "code",
   "execution_count": 1,
   "metadata": {
    "id": "SY3vuCtI73uN"
   },
   "outputs": [],
   "source": [
    "# Import the libraries \n",
    "import numpy as np\n",
    "import pandas as pd\n",
    "from datetime import datetime"
   ]
  },
  {
   "cell_type": "markdown",
   "metadata": {
    "id": "UcdacxewjqDd"
   },
   "source": [
    "### <a id = \"link1\"></a>Overview of the data"
   ]
  },
  {
   "cell_type": "code",
   "execution_count": null,
   "metadata": {
    "id": "4FvdGEL573uQ"
   },
   "outputs": [],
   "source": [
    "# Read the Data uberdrive into a df"
   ]
  },
  {
   "cell_type": "code",
   "execution_count": null,
   "metadata": {},
   "outputs": [],
   "source": []
  },
  {
   "cell_type": "code",
   "execution_count": 2,
   "metadata": {
    "colab": {
     "base_uri": "https://localhost:8080/",
     "height": 297
    },
    "id": "rfp142SP73uS",
    "outputId": "7c059e9c-86d7-493f-ba8b-0e2b20289efa",
    "scrolled": true
   },
   "outputs": [],
   "source": [
    "# View first 3 rows of data "
   ]
  },
  {
   "cell_type": "code",
   "execution_count": null,
   "metadata": {},
   "outputs": [],
   "source": []
  },
  {
   "cell_type": "code",
   "execution_count": null,
   "metadata": {},
   "outputs": [],
   "source": [
    "# Read the Data UberDrive_Miles into another df\n"
   ]
  },
  {
   "cell_type": "code",
   "execution_count": 3,
   "metadata": {
    "id": "ItQdTrU4jqDf",
    "outputId": "3c906a61-cfe4-4597-eee9-3bf89bc83206"
   },
   "outputs": [],
   "source": [
    "# View first 3 rows of data "
   ]
  },
  {
   "cell_type": "code",
   "execution_count": null,
   "metadata": {},
   "outputs": [],
   "source": []
  },
  {
   "cell_type": "code",
   "execution_count": 4,
   "metadata": {
    "colab": {
     "base_uri": "https://localhost:8080/",
     "height": 51
    },
    "id": "oG5qPCEa73uY",
    "outputId": "7a36d667-5349-466a-cf7e-a52d42987aae"
   },
   "outputs": [],
   "source": [
    "# understand shape and size of data from Uberdrive"
   ]
  },
  {
   "cell_type": "code",
   "execution_count": null,
   "metadata": {},
   "outputs": [],
   "source": []
  },
  {
   "cell_type": "code",
   "execution_count": 5,
   "metadata": {
    "id": "wkRe1HmjjqDg",
    "outputId": "73c8069c-1387-4cc0-8c8d-cf2273ae5169"
   },
   "outputs": [],
   "source": [
    "# check info about data (includes column names, the number of non-null values in it, and data-type for each column.)"
   ]
  },
  {
   "cell_type": "code",
   "execution_count": null,
   "metadata": {},
   "outputs": [],
   "source": []
  },
  {
   "cell_type": "markdown",
   "metadata": {
    "id": "PgNx3U4j73ux"
   },
   "source": [
    "### Renaming columns"
   ]
  },
  {
   "cell_type": "code",
   "execution_count": 6,
   "metadata": {
    "colab": {
     "base_uri": "https://localhost:8080/",
     "height": 204
    },
    "id": "j0YgTTz-73ux",
    "outputId": "92bc3544-8f0f-4b70-d3e7-156b676c777b"
   },
   "outputs": [],
   "source": [
    "# Replace the * character from all the  columns"
   ]
  },
  {
   "cell_type": "code",
   "execution_count": null,
   "metadata": {},
   "outputs": [],
   "source": []
  },
  {
   "cell_type": "markdown",
   "metadata": {
    "id": "Ebt8vpgH73u3"
   },
   "source": [
    "### <a id = \"link3\"></a>Filtering dataframes\n",
    "#### Using null values"
   ]
  },
  {
   "cell_type": "code",
   "execution_count": 7,
   "metadata": {
    "colab": {
     "base_uri": "https://localhost:8080/",
     "height": 419
    },
    "id": "AA1Def0u73u3",
    "outputId": "06b8ba30-5d85-45d8-8bbb-fcacd907526b",
    "scrolled": false
   },
   "outputs": [],
   "source": [
    "# shows the top 5 entries where PURPOSE is null"
   ]
  },
  {
   "cell_type": "code",
   "execution_count": null,
   "metadata": {},
   "outputs": [],
   "source": []
  },
  {
   "cell_type": "markdown",
   "metadata": {
    "id": "0mGILHvP73u5"
   },
   "source": [
    "\n",
    "#### Filtering out records based on conditions"
   ]
  },
  {
   "cell_type": "code",
   "execution_count": 8,
   "metadata": {
    "colab": {
     "base_uri": "https://localhost:8080/",
     "height": 1000
    },
    "id": "x3eNeRib73u5",
    "outputId": "2f75e4e2-9c8f-4a10-bc9b-5dfad1b7a96a"
   },
   "outputs": [],
   "source": [
    "# check how many trips were longer than 30 miles"
   ]
  },
  {
   "cell_type": "markdown",
   "metadata": {
    "id": "vt3uGICkjqDk"
   },
   "source": [
    "**Name and Number of all unique start and stop points**"
   ]
  },
  {
   "cell_type": "code",
   "execution_count": 10,
   "metadata": {
    "colab": {
     "base_uri": "https://localhost:8080/",
     "height": 629
    },
    "id": "nmE7R0d473vS",
    "outputId": "f313f8be-54c5-42a8-eeb4-9ac3b254befe"
   },
   "outputs": [],
   "source": [
    "# Get the unique starting point, unique destination"
   ]
  },
  {
   "cell_type": "code",
   "execution_count": null,
   "metadata": {},
   "outputs": [],
   "source": []
  },
  {
   "cell_type": "code",
   "execution_count": 11,
   "metadata": {
    "colab": {
     "base_uri": "https://localhost:8080/",
     "height": 34
    },
    "id": "SFUlm5TW73vW",
    "outputId": "91b89857-4af6-4c68-b7e4-6a43decca54b"
   },
   "outputs": [],
   "source": [
    "# Get the unique starting point, unique destination"
   ]
  },
  {
   "cell_type": "code",
   "execution_count": null,
   "metadata": {},
   "outputs": [],
   "source": []
  },
  {
   "cell_type": "code",
   "execution_count": 12,
   "metadata": {
    "colab": {
     "base_uri": "https://localhost:8080/",
     "height": 680
    },
    "id": "MNH8DaQ773vY",
    "outputId": "5ca7c9ac-266d-4cd8-9016-b9bdc09dd4a7"
   },
   "outputs": [],
   "source": [
    "# Get the names of stopping destinations, unique destinations"
   ]
  },
  {
   "cell_type": "code",
   "execution_count": null,
   "metadata": {},
   "outputs": [],
   "source": []
  },
  {
   "cell_type": "code",
   "execution_count": 13,
   "metadata": {
    "colab": {
     "base_uri": "https://localhost:8080/",
     "height": 34
    },
    "id": "3O2iTz9j73va",
    "outputId": "08f687f9-d25d-4f82-8393-3118a91c9474",
    "scrolled": false
   },
   "outputs": [],
   "source": [
    "# Names of unique stopping points"
   ]
  },
  {
   "cell_type": "code",
   "execution_count": null,
   "metadata": {},
   "outputs": [],
   "source": []
  },
  {
   "cell_type": "markdown",
   "metadata": {
    "id": "ki30jr-UjqDl"
   },
   "source": [
    "**Identify popular start points**"
   ]
  },
  {
   "cell_type": "code",
   "execution_count": 14,
   "metadata": {
    "colab": {
     "base_uri": "https://localhost:8080/",
     "height": 204
    },
    "id": "IdfGWVrR73vj",
    "outputId": "b201847d-212d-40dc-8d23-ffd5df88d4f1",
    "scrolled": true
   },
   "outputs": [],
   "source": [
    "#get top 10 most frequent Start points\n",
    "#hint: use value_conts()"
   ]
  },
  {
   "cell_type": "code",
   "execution_count": null,
   "metadata": {},
   "outputs": [],
   "source": []
  },
  {
   "cell_type": "markdown",
   "metadata": {
    "id": "tmMxPKP0jqDl"
   },
   "source": [
    "**Identify popular stop destinations**"
   ]
  },
  {
   "cell_type": "code",
   "execution_count": 15,
   "metadata": {
    "colab": {
     "base_uri": "https://localhost:8080/",
     "height": 204
    },
    "id": "0_VAzZd573vl",
    "outputId": "44fe8603-afb2-448c-884d-661ff9e150e4",
    "scrolled": true
   },
   "outputs": [],
   "source": [
    "#get top 10 most frequent Stop points\n",
    "#hint: use value_conts()"
   ]
  },
  {
   "cell_type": "code",
   "execution_count": null,
   "metadata": {},
   "outputs": [],
   "source": []
  },
  {
   "cell_type": "markdown",
   "metadata": {
    "id": "JVl4EJQCjqDm"
   },
   "source": [
    "**Are there cases where the start and the stop location are the same ? If so how many**"
   ]
  },
  {
   "cell_type": "code",
   "execution_count": null,
   "metadata": {
    "colab": {
     "base_uri": "https://localhost:8080/",
     "height": 419
    },
    "id": "ax8JSeaj73vn",
    "outputId": "eee25698-a344-45da-fd11-7297c3b0219c",
    "scrolled": true
   },
   "outputs": [],
   "source": []
  },
  {
   "cell_type": "markdown",
   "metadata": {
    "id": "d8F_7jKZjqDm"
   },
   "source": [
    "**Starting point from which the most miles have been driven**\n",
    "\n",
    "**In order to use the miles feature, you need to merge the two dataframes so that the all the information is in one dataframe.**\n",
    "- using merge \n"
   ]
  },
  {
   "cell_type": "code",
   "execution_count": null,
   "metadata": {},
   "outputs": [],
   "source": []
  },
  {
   "cell_type": "markdown",
   "metadata": {
    "id": "BCSFe-qKjqDn"
   },
   "source": [
    "**Use groupby function to find the starting point from which the most miles have been driven**"
   ]
  },
  {
   "cell_type": "code",
   "execution_count": null,
   "metadata": {
    "colab": {
     "base_uri": "https://localhost:8080/",
     "height": 221
    },
    "id": "I1oDU0J-73vr",
    "outputId": "3794aca1-8d5a-4e1b-f17c-53155cd90bdd",
    "scrolled": false
   },
   "outputs": [],
   "source": []
  },
  {
   "cell_type": "markdown",
   "metadata": {
    "id": "vZAK9oCujqDn"
   },
   "source": [
    "**Find the top10 start stop pair that have the most miles covered between them ever.**"
   ]
  },
  {
   "cell_type": "code",
   "execution_count": null,
   "metadata": {},
   "outputs": [],
   "source": []
  },
  {
   "cell_type": "markdown",
   "metadata": {},
   "source": [
    "**Working with dates.**"
   ]
  },
  {
   "cell_type": "code",
   "execution_count": null,
   "metadata": {
    "colab": {
     "base_uri": "https://localhost:8080/",
     "height": 204
    },
    "id": "aMvHdBEA73v9",
    "outputId": "c19995a9-3de5-4626-eb2f-b3e176900b48"
   },
   "outputs": [],
   "source": [
    "#check column type for uberdrive df"
   ]
  },
  {
   "cell_type": "code",
   "execution_count": null,
   "metadata": {
    "colab": {
     "base_uri": "https://localhost:8080/",
     "height": 153
    },
    "id": "x73FrX-C73v_",
    "outputId": "7b0313d5-db44-4770-bb5d-328d79608930",
    "scrolled": true
   },
   "outputs": [],
   "source": []
  },
  {
   "cell_type": "code",
   "execution_count": 16,
   "metadata": {
    "id": "0wu_rDvC73wB"
   },
   "outputs": [],
   "source": [
    "# create columns by converting the start and end date into a datatime format\n",
    "# you can also over write the same column - but for the sake of understanding the difference in formats, we create new columns"
   ]
  },
  {
   "cell_type": "code",
   "execution_count": null,
   "metadata": {},
   "outputs": [],
   "source": []
  },
  {
   "cell_type": "code",
   "execution_count": 17,
   "metadata": {
    "colab": {
     "base_uri": "https://localhost:8080/",
     "height": 204
    },
    "id": "mzEZTrdZ73wD",
    "outputId": "2b1424da-4c94-42c6-a5b1-4d89bc851c69"
   },
   "outputs": [],
   "source": [
    "#årint first 5 rows of data."
   ]
  },
  {
   "cell_type": "code",
   "execution_count": null,
   "metadata": {},
   "outputs": [],
   "source": []
  },
  {
   "cell_type": "code",
   "execution_count": 18,
   "metadata": {
    "colab": {
     "base_uri": "https://localhost:8080/",
     "height": 187
    },
    "id": "-ViyTibxKhM-",
    "outputId": "4a2a4e57-c58a-491d-dc6d-16c083d29cda"
   },
   "outputs": [],
   "source": [
    "# see how the dtype is different, print column types"
   ]
  },
  {
   "cell_type": "code",
   "execution_count": null,
   "metadata": {},
   "outputs": [],
   "source": []
  },
  {
   "cell_type": "code",
   "execution_count": null,
   "metadata": {
    "id": "BUjYhgB173wH"
   },
   "outputs": [],
   "source": [
    "# Create more columns by using the inbuilt functionalities of datatime module, day, hour, month, dayofweek"
   ]
  },
  {
   "cell_type": "code",
   "execution_count": null,
   "metadata": {},
   "outputs": [],
   "source": []
  },
  {
   "cell_type": "code",
   "execution_count": null,
   "metadata": {},
   "outputs": [],
   "source": [
    "#create a new column that has week day by name and month by name"
   ]
  },
  {
   "cell_type": "code",
   "execution_count": null,
   "metadata": {},
   "outputs": [],
   "source": []
  },
  {
   "cell_type": "markdown",
   "metadata": {
    "id": "A4oM-qwtjqDq"
   },
   "source": [
    "**Find the busiest month in terms of number of drives and miles driven**"
   ]
  },
  {
   "cell_type": "code",
   "execution_count": 19,
   "metadata": {
    "colab": {
     "base_uri": "https://localhost:8080/",
     "height": 255
    },
    "id": "GRUKjqys73wW",
    "outputId": "14007238-5e80-4163-d1d2-4fa15af65a78",
    "scrolled": false
   },
   "outputs": [],
   "source": [
    "#groupby calender months and count the number of drives"
   ]
  },
  {
   "cell_type": "code",
   "execution_count": null,
   "metadata": {},
   "outputs": [],
   "source": []
  },
  {
   "cell_type": "code",
   "execution_count": 20,
   "metadata": {
    "id": "CFBd5lbWjqDr",
    "outputId": "a78272ac-c16b-4bae-f8af-c7a68d948e98",
    "scrolled": true
   },
   "outputs": [],
   "source": [
    "#groupby calender months and sum the number of miles driven"
   ]
  },
  {
   "cell_type": "code",
   "execution_count": null,
   "metadata": {},
   "outputs": [],
   "source": []
  },
  {
   "cell_type": "markdown",
   "metadata": {
    "id": "QtWFspbPjqDs"
   },
   "source": [
    "**Busiest day in terms of number of rides**"
   ]
  },
  {
   "cell_type": "code",
   "execution_count": 21,
   "metadata": {
    "colab": {
     "base_uri": "https://localhost:8080/",
     "height": 170
    },
    "id": "UHWuwGBw73wb",
    "outputId": "d91d9d1e-32b6-4f91-ff68-13642d5ef10b"
   },
   "outputs": [],
   "source": [
    "# Which day did the driver get most drives? "
   ]
  },
  {
   "cell_type": "code",
   "execution_count": null,
   "metadata": {},
   "outputs": [],
   "source": []
  },
  {
   "cell_type": "markdown",
   "metadata": {
    "id": "myRVUvO073we"
   },
   "source": [
    "**Peak hours?**"
   ]
  },
  {
   "cell_type": "code",
   "execution_count": 22,
   "metadata": {
    "colab": {
     "base_uri": "https://localhost:8080/",
     "height": 442
    },
    "id": "rkesjjDV73we",
    "outputId": "bb940da3-1050-4c6e-c1ad-6af72e6fa2cf"
   },
   "outputs": [],
   "source": [
    "#use groupby on start_hour to find peak hours"
   ]
  },
  {
   "cell_type": "code",
   "execution_count": null,
   "metadata": {},
   "outputs": [],
   "source": []
  },
  {
   "cell_type": "markdown",
   "metadata": {
    "id": "kqJ8MwtDjqDu"
   },
   "source": [
    "**Most frequent trip category**"
   ]
  },
  {
   "cell_type": "code",
   "execution_count": 24,
   "metadata": {
    "colab": {
     "base_uri": "https://localhost:8080/",
     "height": 68
    },
    "id": "gquL3BUv73xA",
    "outputId": "a24986ba-fb5c-4d00-ce7f-8882193af7e0"
   },
   "outputs": [],
   "source": [
    "#Category"
   ]
  },
  {
   "cell_type": "code",
   "execution_count": null,
   "metadata": {},
   "outputs": [],
   "source": []
  },
  {
   "cell_type": "markdown",
   "metadata": {
    "id": "VHQYJYB5jqDu"
   },
   "source": [
    "**Most frequent Purpose**"
   ]
  },
  {
   "cell_type": "code",
   "execution_count": 23,
   "metadata": {
    "colab": {
     "base_uri": "https://localhost:8080/",
     "height": 204
    },
    "id": "1i1t_EpJ73xD",
    "outputId": "d94f57e6-7ef6-492f-9403-e3a600330a44"
   },
   "outputs": [],
   "source": [
    "#Purpose"
   ]
  },
  {
   "cell_type": "code",
   "execution_count": null,
   "metadata": {},
   "outputs": [],
   "source": []
  },
  {
   "cell_type": "markdown",
   "metadata": {
    "id": "I4ninmDJ73xG"
   },
   "source": [
    "**Most trips are for meetings**"
   ]
  },
  {
   "cell_type": "code",
   "execution_count": 25,
   "metadata": {
    "colab": {
     "base_uri": "https://localhost:8080/",
     "height": 221
    },
    "id": "g8PeGQyn73xH",
    "outputId": "dd785412-1a8d-4288-8008-0ecc65eb9633"
   },
   "outputs": [],
   "source": [
    "#Average distance traveled for each activity"
   ]
  },
  {
   "cell_type": "code",
   "execution_count": 26,
   "metadata": {
    "colab": {
     "base_uri": "https://localhost:8080/",
     "height": 221
    },
    "id": "rLz2LvBk73xJ",
    "outputId": "a79af4c4-f50a-4768-8978-34426fe41a2a"
   },
   "outputs": [],
   "source": [
    "#How many miles were driven per category and purpose ?"
   ]
  },
  {
   "cell_type": "code",
   "execution_count": null,
   "metadata": {},
   "outputs": [],
   "source": []
  },
  {
   "cell_type": "code",
   "execution_count": 27,
   "metadata": {
    "colab": {
     "base_uri": "https://localhost:8080/",
     "height": 85
    },
    "id": "XpIICZl773xK",
    "outputId": "fa82427b-a87a-45ea-9a25-45a054d6f105"
   },
   "outputs": [],
   "source": [
    "#How many miles were driven per category and purpose ?"
   ]
  },
  {
   "cell_type": "code",
   "execution_count": null,
   "metadata": {},
   "outputs": [],
   "source": []
  },
  {
   "cell_type": "code",
   "execution_count": 28,
   "metadata": {
    "colab": {
     "base_uri": "https://localhost:8080/",
     "height": 142
    },
    "id": "b_snpubb73xM",
    "outputId": "bd25cf6e-b90a-453b-cbe6-9dfa871132a5",
    "scrolled": true
   },
   "outputs": [],
   "source": [
    "#What is percentage of business miles vs personal?"
   ]
  },
  {
   "cell_type": "code",
   "execution_count": null,
   "metadata": {
    "id": "fiq-EvubjqDw"
   },
   "outputs": [],
   "source": []
  }
 ],
 "metadata": {
  "colab": {
   "collapsed_sections": [
    "8jSvBLWi73vR"
   ],
   "name": "Uber_Data_Analysis (1) (1).ipynb",
   "provenance": []
  },
  "kernelspec": {
   "display_name": "Python 3",
   "language": "python",
   "name": "python3"
  },
  "language_info": {
   "codemirror_mode": {
    "name": "ipython",
    "version": 3
   },
   "file_extension": ".py",
   "mimetype": "text/x-python",
   "name": "python",
   "nbconvert_exporter": "python",
   "pygments_lexer": "ipython3",
   "version": "3.8.8"
  }
 },
 "nbformat": 4,
 "nbformat_minor": 1
}
