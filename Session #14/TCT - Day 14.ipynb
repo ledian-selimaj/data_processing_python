{
 "cells": [
  {
   "cell_type": "markdown",
   "id": "c6e8de9a",
   "metadata": {},
   "source": [
    "# TCT - Day 14\n",
    "\n",
    "- Connect to SQL database from python\n",
    "- Visualization using matplotlib\n",
    "- Example polynomial regression"
   ]
  },
  {
   "cell_type": "markdown",
   "id": "d92874d0",
   "metadata": {},
   "source": [
    "##  Connect to SQL database from python"
   ]
  },
  {
   "cell_type": "code",
   "execution_count": 1,
   "id": "dc6dd167",
   "metadata": {},
   "outputs": [
    {
     "name": "stdout",
     "output_type": "stream",
     "text": [
      "Requirement already satisfied: pyodbc in c:\\users\\lear_\\anaconda3\\lib\\site-packages (4.0.0-unsupported)\n",
      "Note: you may need to restart the kernel to use updated packages.\n"
     ]
    }
   ],
   "source": [
    "pip install pyodbc"
   ]
  },
  {
   "cell_type": "code",
   "execution_count": 2,
   "id": "9d06a86e",
   "metadata": {},
   "outputs": [],
   "source": [
    "import pandas as pd\n",
    "import pyodbc "
   ]
  },
  {
   "cell_type": "code",
   "execution_count": 3,
   "id": "bbca6832",
   "metadata": {},
   "outputs": [],
   "source": [
    "import login_sql_details"
   ]
  },
  {
   "cell_type": "code",
   "execution_count": 4,
   "id": "8064d7a8",
   "metadata": {},
   "outputs": [],
   "source": [
    "from login_sql_details import get_details"
   ]
  },
  {
   "cell_type": "code",
   "execution_count": 5,
   "id": "0951ee76",
   "metadata": {},
   "outputs": [],
   "source": [
    "server,database, un, psw = get_details()"
   ]
  },
  {
   "cell_type": "code",
   "execution_count": 8,
   "id": "2c482048",
   "metadata": {},
   "outputs": [],
   "source": [
    "con=pyodbc.connect('DRIVER={ODBC Driver 17 for SQL Server}',SERVER=server,DATABASE=database,UID=un,PWD=psw)"
   ]
  },
  {
   "cell_type": "code",
   "execution_count": 9,
   "id": "f2b970c4",
   "metadata": {},
   "outputs": [],
   "source": [
    "query = \"\"\"\n",
    "SELECT TOP (1000) [BusinessEntityID]\n",
    "      ,[Name]\n",
    "      ,[SalesPersonID]\n",
    "      ,[Demographics]\n",
    "      ,[rowguid]\n",
    "      ,[ModifiedDate]\n",
    "  FROM [Sales].[Store]\n",
    "\"\"\""
   ]
  },
  {
   "cell_type": "code",
   "execution_count": 10,
   "id": "4ffc9d04",
   "metadata": {},
   "outputs": [
    {
     "data": {
      "text/html": [
       "<div>\n",
       "<style scoped>\n",
       "    .dataframe tbody tr th:only-of-type {\n",
       "        vertical-align: middle;\n",
       "    }\n",
       "\n",
       "    .dataframe tbody tr th {\n",
       "        vertical-align: top;\n",
       "    }\n",
       "\n",
       "    .dataframe thead th {\n",
       "        text-align: right;\n",
       "    }\n",
       "</style>\n",
       "<table border=\"1\" class=\"dataframe\">\n",
       "  <thead>\n",
       "    <tr style=\"text-align: right;\">\n",
       "      <th></th>\n",
       "      <th>BusinessEntityID</th>\n",
       "      <th>Name</th>\n",
       "      <th>SalesPersonID</th>\n",
       "      <th>Demographics</th>\n",
       "      <th>rowguid</th>\n",
       "      <th>ModifiedDate</th>\n",
       "    </tr>\n",
       "  </thead>\n",
       "  <tbody>\n",
       "    <tr>\n",
       "      <th>0</th>\n",
       "      <td>292</td>\n",
       "      <td>Next-Door Bike Store</td>\n",
       "      <td>279</td>\n",
       "      <td>&lt;StoreSurvey xmlns=\"http://schemas.microsoft.c...</td>\n",
       "      <td>A22517E3-848D-4EBE-B9D9-7437F3432304</td>\n",
       "      <td>2014-09-12 11:15:07.497</td>\n",
       "    </tr>\n",
       "    <tr>\n",
       "      <th>1</th>\n",
       "      <td>294</td>\n",
       "      <td>Professional Sales and Service</td>\n",
       "      <td>276</td>\n",
       "      <td>&lt;StoreSurvey xmlns=\"http://schemas.microsoft.c...</td>\n",
       "      <td>B50CA50B-C601-4A13-B07E-2C63862D71B4</td>\n",
       "      <td>2014-09-12 11:15:07.497</td>\n",
       "    </tr>\n",
       "    <tr>\n",
       "      <th>2</th>\n",
       "      <td>296</td>\n",
       "      <td>Riders Company</td>\n",
       "      <td>277</td>\n",
       "      <td>&lt;StoreSurvey xmlns=\"http://schemas.microsoft.c...</td>\n",
       "      <td>337C3688-1339-4E1A-A08A-B54B23566E49</td>\n",
       "      <td>2014-09-12 11:15:07.497</td>\n",
       "    </tr>\n",
       "    <tr>\n",
       "      <th>3</th>\n",
       "      <td>298</td>\n",
       "      <td>The Bike Mechanics</td>\n",
       "      <td>275</td>\n",
       "      <td>&lt;StoreSurvey xmlns=\"http://schemas.microsoft.c...</td>\n",
       "      <td>7894F278-F0C8-4D16-BD75-213FDBF13023</td>\n",
       "      <td>2014-09-12 11:15:07.497</td>\n",
       "    </tr>\n",
       "    <tr>\n",
       "      <th>4</th>\n",
       "      <td>300</td>\n",
       "      <td>Nationwide Supply</td>\n",
       "      <td>286</td>\n",
       "      <td>&lt;StoreSurvey xmlns=\"http://schemas.microsoft.c...</td>\n",
       "      <td>C3FC9705-A8C4-4F3A-9550-EB2FA4B7B64D</td>\n",
       "      <td>2014-09-12 11:15:07.497</td>\n",
       "    </tr>\n",
       "    <tr>\n",
       "      <th>...</th>\n",
       "      <td>...</td>\n",
       "      <td>...</td>\n",
       "      <td>...</td>\n",
       "      <td>...</td>\n",
       "      <td>...</td>\n",
       "      <td>...</td>\n",
       "    </tr>\n",
       "    <tr>\n",
       "      <th>696</th>\n",
       "      <td>1988</td>\n",
       "      <td>Retreat Inn</td>\n",
       "      <td>282</td>\n",
       "      <td>&lt;StoreSurvey xmlns=\"http://schemas.microsoft.c...</td>\n",
       "      <td>EA21EC81-1BFA-4A07-9B4D-73D9852AFCBF</td>\n",
       "      <td>2014-09-12 11:15:07.497</td>\n",
       "    </tr>\n",
       "    <tr>\n",
       "      <th>697</th>\n",
       "      <td>1990</td>\n",
       "      <td>Technical Parts Manufacturing</td>\n",
       "      <td>281</td>\n",
       "      <td>&lt;StoreSurvey xmlns=\"http://schemas.microsoft.c...</td>\n",
       "      <td>C8E3C4ED-8F58-4DB2-B600-E0CD11D9CFAD</td>\n",
       "      <td>2014-09-12 11:15:07.497</td>\n",
       "    </tr>\n",
       "    <tr>\n",
       "      <th>698</th>\n",
       "      <td>1992</td>\n",
       "      <td>Totes &amp; Baskets Company</td>\n",
       "      <td>277</td>\n",
       "      <td>&lt;StoreSurvey xmlns=\"http://schemas.microsoft.c...</td>\n",
       "      <td>CE860B58-643C-4567-BFD8-06E97969CC67</td>\n",
       "      <td>2014-09-12 11:15:07.497</td>\n",
       "    </tr>\n",
       "    <tr>\n",
       "      <th>699</th>\n",
       "      <td>1994</td>\n",
       "      <td>World of Bikes</td>\n",
       "      <td>277</td>\n",
       "      <td>&lt;StoreSurvey xmlns=\"http://schemas.microsoft.c...</td>\n",
       "      <td>0C10F2B6-A13A-440C-9C25-5B28D482872A</td>\n",
       "      <td>2014-09-12 11:15:07.497</td>\n",
       "    </tr>\n",
       "    <tr>\n",
       "      <th>700</th>\n",
       "      <td>2051</td>\n",
       "      <td>A Bicycle Association</td>\n",
       "      <td>275</td>\n",
       "      <td>&lt;StoreSurvey xmlns=\"http://schemas.microsoft.c...</td>\n",
       "      <td>82237172-D3FE-4A95-82EF-636F655240AD</td>\n",
       "      <td>2014-09-12 11:15:07.497</td>\n",
       "    </tr>\n",
       "  </tbody>\n",
       "</table>\n",
       "<p>701 rows × 6 columns</p>\n",
       "</div>"
      ],
      "text/plain": [
       "     BusinessEntityID                            Name  SalesPersonID  \\\n",
       "0                 292            Next-Door Bike Store            279   \n",
       "1                 294  Professional Sales and Service            276   \n",
       "2                 296                  Riders Company            277   \n",
       "3                 298              The Bike Mechanics            275   \n",
       "4                 300               Nationwide Supply            286   \n",
       "..                ...                             ...            ...   \n",
       "696              1988                     Retreat Inn            282   \n",
       "697              1990   Technical Parts Manufacturing            281   \n",
       "698              1992         Totes & Baskets Company            277   \n",
       "699              1994                  World of Bikes            277   \n",
       "700              2051           A Bicycle Association            275   \n",
       "\n",
       "                                          Demographics  \\\n",
       "0    <StoreSurvey xmlns=\"http://schemas.microsoft.c...   \n",
       "1    <StoreSurvey xmlns=\"http://schemas.microsoft.c...   \n",
       "2    <StoreSurvey xmlns=\"http://schemas.microsoft.c...   \n",
       "3    <StoreSurvey xmlns=\"http://schemas.microsoft.c...   \n",
       "4    <StoreSurvey xmlns=\"http://schemas.microsoft.c...   \n",
       "..                                                 ...   \n",
       "696  <StoreSurvey xmlns=\"http://schemas.microsoft.c...   \n",
       "697  <StoreSurvey xmlns=\"http://schemas.microsoft.c...   \n",
       "698  <StoreSurvey xmlns=\"http://schemas.microsoft.c...   \n",
       "699  <StoreSurvey xmlns=\"http://schemas.microsoft.c...   \n",
       "700  <StoreSurvey xmlns=\"http://schemas.microsoft.c...   \n",
       "\n",
       "                                  rowguid            ModifiedDate  \n",
       "0    A22517E3-848D-4EBE-B9D9-7437F3432304 2014-09-12 11:15:07.497  \n",
       "1    B50CA50B-C601-4A13-B07E-2C63862D71B4 2014-09-12 11:15:07.497  \n",
       "2    337C3688-1339-4E1A-A08A-B54B23566E49 2014-09-12 11:15:07.497  \n",
       "3    7894F278-F0C8-4D16-BD75-213FDBF13023 2014-09-12 11:15:07.497  \n",
       "4    C3FC9705-A8C4-4F3A-9550-EB2FA4B7B64D 2014-09-12 11:15:07.497  \n",
       "..                                    ...                     ...  \n",
       "696  EA21EC81-1BFA-4A07-9B4D-73D9852AFCBF 2014-09-12 11:15:07.497  \n",
       "697  C8E3C4ED-8F58-4DB2-B600-E0CD11D9CFAD 2014-09-12 11:15:07.497  \n",
       "698  CE860B58-643C-4567-BFD8-06E97969CC67 2014-09-12 11:15:07.497  \n",
       "699  0C10F2B6-A13A-440C-9C25-5B28D482872A 2014-09-12 11:15:07.497  \n",
       "700  82237172-D3FE-4A95-82EF-636F655240AD 2014-09-12 11:15:07.497  \n",
       "\n",
       "[701 rows x 6 columns]"
      ]
     },
     "execution_count": 10,
     "metadata": {},
     "output_type": "execute_result"
    }
   ],
   "source": [
    "data=pd.read_sql(query,con)\n",
    "data"
   ]
  },
  {
   "cell_type": "markdown",
   "id": "94e0e972",
   "metadata": {},
   "source": [
    "## Visualization using matplotlib"
   ]
  },
  {
   "cell_type": "code",
   "execution_count": 12,
   "id": "11d60dce",
   "metadata": {},
   "outputs": [
    {
     "name": "stdout",
     "output_type": "stream",
     "text": [
      "Requirement already satisfied: yfinance in c:\\users\\lear_\\anaconda3\\lib\\site-packages (0.1.70)\n",
      "Requirement already satisfied: lxml>=4.5.1 in c:\\users\\lear_\\anaconda3\\lib\\site-packages (from yfinance) (4.6.3)\n",
      "Requirement already satisfied: multitasking>=0.0.7 in c:\\users\\lear_\\anaconda3\\lib\\site-packages (from yfinance) (0.0.10)\n",
      "Requirement already satisfied: pandas>=0.24.0 in c:\\users\\lear_\\anaconda3\\lib\\site-packages (from yfinance) (1.2.4)\n",
      "Requirement already satisfied: numpy>=1.15 in c:\\users\\lear_\\anaconda3\\lib\\site-packages (from yfinance) (1.22.3)\n",
      "Requirement already satisfied: requests>=2.26 in c:\\users\\lear_\\anaconda3\\lib\\site-packages (from yfinance) (2.28.0)\n",
      "Requirement already satisfied: python-dateutil>=2.7.3 in c:\\users\\lear_\\anaconda3\\lib\\site-packages (from pandas>=0.24.0->yfinance) (2.8.1)\n",
      "Requirement already satisfied: pytz>=2017.3 in c:\\users\\lear_\\anaconda3\\lib\\site-packages (from pandas>=0.24.0->yfinance) (2021.1)\n",
      "Requirement already satisfied: six>=1.5 in c:\\users\\lear_\\anaconda3\\lib\\site-packages (from python-dateutil>=2.7.3->pandas>=0.24.0->yfinance) (1.15.0)\n",
      "Requirement already satisfied: certifi>=2017.4.17 in c:\\users\\lear_\\anaconda3\\lib\\site-packages (from requests>=2.26->yfinance) (2020.12.5)\n",
      "Requirement already satisfied: urllib3<1.27,>=1.21.1 in c:\\users\\lear_\\anaconda3\\lib\\site-packages (from requests>=2.26->yfinance) (1.26.4)\n",
      "Requirement already satisfied: charset-normalizer~=2.0.0 in c:\\users\\lear_\\anaconda3\\lib\\site-packages (from requests>=2.26->yfinance) (2.0.12)\n",
      "Requirement already satisfied: idna<4,>=2.5 in c:\\users\\lear_\\anaconda3\\lib\\site-packages (from requests>=2.26->yfinance) (2.10)\n",
      "Note: you may need to restart the kernel to use updated packages.\n"
     ]
    }
   ],
   "source": [
    "pip install yfinance"
   ]
  },
  {
   "cell_type": "code",
   "execution_count": 13,
   "id": "40c47552",
   "metadata": {},
   "outputs": [],
   "source": [
    "import yfinance as yf\n",
    "import matplotlib.pyplot as plt"
   ]
  },
  {
   "cell_type": "code",
   "execution_count": 17,
   "id": "3163fe91",
   "metadata": {},
   "outputs": [],
   "source": [
    "t = yf.Ticker('TSLA')"
   ]
  },
  {
   "cell_type": "code",
   "execution_count": 21,
   "id": "f85c0773",
   "metadata": {},
   "outputs": [],
   "source": [
    "data=t.history(period='2Y',interval='1d')"
   ]
  },
  {
   "cell_type": "code",
   "execution_count": 22,
   "id": "8bc586da",
   "metadata": {},
   "outputs": [
    {
     "data": {
      "text/html": [
       "<div>\n",
       "<style scoped>\n",
       "    .dataframe tbody tr th:only-of-type {\n",
       "        vertical-align: middle;\n",
       "    }\n",
       "\n",
       "    .dataframe tbody tr th {\n",
       "        vertical-align: top;\n",
       "    }\n",
       "\n",
       "    .dataframe thead th {\n",
       "        text-align: right;\n",
       "    }\n",
       "</style>\n",
       "<table border=\"1\" class=\"dataframe\">\n",
       "  <thead>\n",
       "    <tr style=\"text-align: right;\">\n",
       "      <th></th>\n",
       "      <th>Open</th>\n",
       "      <th>High</th>\n",
       "      <th>Low</th>\n",
       "      <th>Close</th>\n",
       "      <th>Volume</th>\n",
       "      <th>Dividends</th>\n",
       "      <th>Stock Splits</th>\n",
       "    </tr>\n",
       "    <tr>\n",
       "      <th>Date</th>\n",
       "      <th></th>\n",
       "      <th></th>\n",
       "      <th></th>\n",
       "      <th></th>\n",
       "      <th></th>\n",
       "      <th></th>\n",
       "      <th></th>\n",
       "    </tr>\n",
       "  </thead>\n",
       "  <tbody>\n",
       "    <tr>\n",
       "      <th>2020-06-24</th>\n",
       "      <td>198.822006</td>\n",
       "      <td>200.175995</td>\n",
       "      <td>190.628006</td>\n",
       "      <td>192.169998</td>\n",
       "      <td>54798000</td>\n",
       "      <td>0</td>\n",
       "      <td>0.0</td>\n",
       "    </tr>\n",
       "    <tr>\n",
       "      <th>2020-06-25</th>\n",
       "      <td>190.854004</td>\n",
       "      <td>197.195999</td>\n",
       "      <td>187.429993</td>\n",
       "      <td>197.195999</td>\n",
       "      <td>46272500</td>\n",
       "      <td>0</td>\n",
       "      <td>0.0</td>\n",
       "    </tr>\n",
       "    <tr>\n",
       "      <th>2020-06-26</th>\n",
       "      <td>198.955994</td>\n",
       "      <td>199.000000</td>\n",
       "      <td>190.973999</td>\n",
       "      <td>191.947998</td>\n",
       "      <td>44274500</td>\n",
       "      <td>0</td>\n",
       "      <td>0.0</td>\n",
       "    </tr>\n",
       "    <tr>\n",
       "      <th>2020-06-29</th>\n",
       "      <td>193.802002</td>\n",
       "      <td>202.000000</td>\n",
       "      <td>189.703995</td>\n",
       "      <td>201.869995</td>\n",
       "      <td>45132000</td>\n",
       "      <td>0</td>\n",
       "      <td>0.0</td>\n",
       "    </tr>\n",
       "    <tr>\n",
       "      <th>2020-06-30</th>\n",
       "      <td>201.300003</td>\n",
       "      <td>217.537994</td>\n",
       "      <td>200.746002</td>\n",
       "      <td>215.962006</td>\n",
       "      <td>84592500</td>\n",
       "      <td>0</td>\n",
       "      <td>0.0</td>\n",
       "    </tr>\n",
       "  </tbody>\n",
       "</table>\n",
       "</div>"
      ],
      "text/plain": [
       "                  Open        High         Low       Close    Volume  \\\n",
       "Date                                                                   \n",
       "2020-06-24  198.822006  200.175995  190.628006  192.169998  54798000   \n",
       "2020-06-25  190.854004  197.195999  187.429993  197.195999  46272500   \n",
       "2020-06-26  198.955994  199.000000  190.973999  191.947998  44274500   \n",
       "2020-06-29  193.802002  202.000000  189.703995  201.869995  45132000   \n",
       "2020-06-30  201.300003  217.537994  200.746002  215.962006  84592500   \n",
       "\n",
       "            Dividends  Stock Splits  \n",
       "Date                                 \n",
       "2020-06-24          0           0.0  \n",
       "2020-06-25          0           0.0  \n",
       "2020-06-26          0           0.0  \n",
       "2020-06-29          0           0.0  \n",
       "2020-06-30          0           0.0  "
      ]
     },
     "execution_count": 22,
     "metadata": {},
     "output_type": "execute_result"
    }
   ],
   "source": [
    "data.head()"
   ]
  },
  {
   "cell_type": "code",
   "execution_count": 25,
   "id": "7f6b5f17",
   "metadata": {},
   "outputs": [
    {
     "data": {
      "text/html": [
       "<div>\n",
       "<style scoped>\n",
       "    .dataframe tbody tr th:only-of-type {\n",
       "        vertical-align: middle;\n",
       "    }\n",
       "\n",
       "    .dataframe tbody tr th {\n",
       "        vertical-align: top;\n",
       "    }\n",
       "\n",
       "    .dataframe thead th {\n",
       "        text-align: right;\n",
       "    }\n",
       "</style>\n",
       "<table border=\"1\" class=\"dataframe\">\n",
       "  <thead>\n",
       "    <tr style=\"text-align: right;\">\n",
       "      <th></th>\n",
       "      <th>Open</th>\n",
       "      <th>High</th>\n",
       "      <th>Low</th>\n",
       "      <th>Close</th>\n",
       "      <th>Volume</th>\n",
       "      <th>Dividends</th>\n",
       "      <th>Stock Splits</th>\n",
       "    </tr>\n",
       "    <tr>\n",
       "      <th>Date</th>\n",
       "      <th></th>\n",
       "      <th></th>\n",
       "      <th></th>\n",
       "      <th></th>\n",
       "      <th></th>\n",
       "      <th></th>\n",
       "      <th></th>\n",
       "    </tr>\n",
       "  </thead>\n",
       "  <tbody>\n",
       "    <tr>\n",
       "      <th>2022-06-10</th>\n",
       "      <td>705.469971</td>\n",
       "      <td>718.500000</td>\n",
       "      <td>683.739990</td>\n",
       "      <td>696.690002</td>\n",
       "      <td>32512200</td>\n",
       "      <td>0</td>\n",
       "      <td>0.0</td>\n",
       "    </tr>\n",
       "    <tr>\n",
       "      <th>2022-06-13</th>\n",
       "      <td>669.500000</td>\n",
       "      <td>679.900024</td>\n",
       "      <td>644.049988</td>\n",
       "      <td>647.210022</td>\n",
       "      <td>34255800</td>\n",
       "      <td>0</td>\n",
       "      <td>0.0</td>\n",
       "    </tr>\n",
       "    <tr>\n",
       "      <th>2022-06-14</th>\n",
       "      <td>654.859985</td>\n",
       "      <td>678.989990</td>\n",
       "      <td>635.210022</td>\n",
       "      <td>662.669983</td>\n",
       "      <td>32662900</td>\n",
       "      <td>0</td>\n",
       "      <td>0.0</td>\n",
       "    </tr>\n",
       "    <tr>\n",
       "      <th>2022-06-15</th>\n",
       "      <td>662.750000</td>\n",
       "      <td>706.989990</td>\n",
       "      <td>654.450012</td>\n",
       "      <td>699.000000</td>\n",
       "      <td>39710600</td>\n",
       "      <td>0</td>\n",
       "      <td>0.0</td>\n",
       "    </tr>\n",
       "    <tr>\n",
       "      <th>2022-06-16</th>\n",
       "      <td>668.210022</td>\n",
       "      <td>675.500000</td>\n",
       "      <td>626.080017</td>\n",
       "      <td>639.299988</td>\n",
       "      <td>35796900</td>\n",
       "      <td>0</td>\n",
       "      <td>0.0</td>\n",
       "    </tr>\n",
       "    <tr>\n",
       "      <th>2022-06-17</th>\n",
       "      <td>640.299988</td>\n",
       "      <td>662.909973</td>\n",
       "      <td>639.590027</td>\n",
       "      <td>650.280029</td>\n",
       "      <td>30810900</td>\n",
       "      <td>0</td>\n",
       "      <td>0.0</td>\n",
       "    </tr>\n",
       "    <tr>\n",
       "      <th>2022-06-21</th>\n",
       "      <td>673.809998</td>\n",
       "      <td>730.729980</td>\n",
       "      <td>673.000000</td>\n",
       "      <td>711.109985</td>\n",
       "      <td>40931000</td>\n",
       "      <td>0</td>\n",
       "      <td>0.0</td>\n",
       "    </tr>\n",
       "    <tr>\n",
       "      <th>2022-06-22</th>\n",
       "      <td>703.510010</td>\n",
       "      <td>740.500000</td>\n",
       "      <td>701.479980</td>\n",
       "      <td>708.260010</td>\n",
       "      <td>33702500</td>\n",
       "      <td>0</td>\n",
       "      <td>0.0</td>\n",
       "    </tr>\n",
       "    <tr>\n",
       "      <th>2022-06-23</th>\n",
       "      <td>713.719971</td>\n",
       "      <td>717.950012</td>\n",
       "      <td>685.909973</td>\n",
       "      <td>705.210022</td>\n",
       "      <td>34667500</td>\n",
       "      <td>0</td>\n",
       "      <td>0.0</td>\n",
       "    </tr>\n",
       "    <tr>\n",
       "      <th>2022-06-24</th>\n",
       "      <td>712.405029</td>\n",
       "      <td>738.196228</td>\n",
       "      <td>708.260010</td>\n",
       "      <td>735.309998</td>\n",
       "      <td>21191128</td>\n",
       "      <td>0</td>\n",
       "      <td>0.0</td>\n",
       "    </tr>\n",
       "  </tbody>\n",
       "</table>\n",
       "</div>"
      ],
      "text/plain": [
       "                  Open        High         Low       Close    Volume  \\\n",
       "Date                                                                   \n",
       "2022-06-10  705.469971  718.500000  683.739990  696.690002  32512200   \n",
       "2022-06-13  669.500000  679.900024  644.049988  647.210022  34255800   \n",
       "2022-06-14  654.859985  678.989990  635.210022  662.669983  32662900   \n",
       "2022-06-15  662.750000  706.989990  654.450012  699.000000  39710600   \n",
       "2022-06-16  668.210022  675.500000  626.080017  639.299988  35796900   \n",
       "2022-06-17  640.299988  662.909973  639.590027  650.280029  30810900   \n",
       "2022-06-21  673.809998  730.729980  673.000000  711.109985  40931000   \n",
       "2022-06-22  703.510010  740.500000  701.479980  708.260010  33702500   \n",
       "2022-06-23  713.719971  717.950012  685.909973  705.210022  34667500   \n",
       "2022-06-24  712.405029  738.196228  708.260010  735.309998  21191128   \n",
       "\n",
       "            Dividends  Stock Splits  \n",
       "Date                                 \n",
       "2022-06-10          0           0.0  \n",
       "2022-06-13          0           0.0  \n",
       "2022-06-14          0           0.0  \n",
       "2022-06-15          0           0.0  \n",
       "2022-06-16          0           0.0  \n",
       "2022-06-17          0           0.0  \n",
       "2022-06-21          0           0.0  \n",
       "2022-06-22          0           0.0  \n",
       "2022-06-23          0           0.0  \n",
       "2022-06-24          0           0.0  "
      ]
     },
     "execution_count": 25,
     "metadata": {},
     "output_type": "execute_result"
    }
   ],
   "source": [
    "data.tail(10)"
   ]
  },
  {
   "cell_type": "code",
   "execution_count": 23,
   "id": "0419908e",
   "metadata": {},
   "outputs": [
    {
     "data": {
      "text/plain": [
       "(505, 7)"
      ]
     },
     "execution_count": 23,
     "metadata": {},
     "output_type": "execute_result"
    }
   ],
   "source": [
    "data.shape"
   ]
  },
  {
   "cell_type": "code",
   "execution_count": 27,
   "id": "b50540d1",
   "metadata": {},
   "outputs": [
    {
     "data": {
      "text/plain": [
       "[<matplotlib.lines.Line2D at 0x22dd1b12ac0>]"
      ]
     },
     "execution_count": 27,
     "metadata": {},
     "output_type": "execute_result"
    },
    {
     "data": {
      "image/png": "[encoded data removed]",
      "text/plain": [
       "<Figure size 720x576 with 1 Axes>"
      ]
     },
     "metadata": {
      "needs_background": "light"
     },
     "output_type": "display_data"
    }
   ],
   "source": [
    "plt.figure(figsize=(10,8))\n",
    "plt.plot(data['Close'])"
   ]
  },
  {
   "cell_type": "code",
   "execution_count": 28,
   "id": "1ae78917",
   "metadata": {},
   "outputs": [],
   "source": [
    "#exercise1: create e new column to calcualte the stock return. Use column Close and apply function pct_change()"
   ]
  },
  {
   "cell_type": "code",
   "execution_count": 31,
   "id": "52caa17f",
   "metadata": {},
   "outputs": [],
   "source": [
    "data['Return']=data['Close'].pct_change()*100"
   ]
  },
  {
   "cell_type": "code",
   "execution_count": 32,
   "id": "997d781b",
   "metadata": {},
   "outputs": [
    {
     "data": {
      "text/html": [
       "<div>\n",
       "<style scoped>\n",
       "    .dataframe tbody tr th:only-of-type {\n",
       "        vertical-align: middle;\n",
       "    }\n",
       "\n",
       "    .dataframe tbody tr th {\n",
       "        vertical-align: top;\n",
       "    }\n",
       "\n",
       "    .dataframe thead th {\n",
       "        text-align: right;\n",
       "    }\n",
       "</style>\n",
       "<table border=\"1\" class=\"dataframe\">\n",
       "  <thead>\n",
       "    <tr style=\"text-align: right;\">\n",
       "      <th></th>\n",
       "      <th>Open</th>\n",
       "      <th>High</th>\n",
       "      <th>Low</th>\n",
       "      <th>Close</th>\n",
       "      <th>Volume</th>\n",
       "      <th>Dividends</th>\n",
       "      <th>Stock Splits</th>\n",
       "      <th>Return</th>\n",
       "    </tr>\n",
       "    <tr>\n",
       "      <th>Date</th>\n",
       "      <th></th>\n",
       "      <th></th>\n",
       "      <th></th>\n",
       "      <th></th>\n",
       "      <th></th>\n",
       "      <th></th>\n",
       "      <th></th>\n",
       "      <th></th>\n",
       "    </tr>\n",
       "  </thead>\n",
       "  <tbody>\n",
       "    <tr>\n",
       "      <th>2020-06-24</th>\n",
       "      <td>198.822006</td>\n",
       "      <td>200.175995</td>\n",
       "      <td>190.628006</td>\n",
       "      <td>192.169998</td>\n",
       "      <td>54798000</td>\n",
       "      <td>0</td>\n",
       "      <td>0.0</td>\n",
       "      <td>NaN</td>\n",
       "    </tr>\n",
       "    <tr>\n",
       "      <th>2020-06-25</th>\n",
       "      <td>190.854004</td>\n",
       "      <td>197.195999</td>\n",
       "      <td>187.429993</td>\n",
       "      <td>197.195999</td>\n",
       "      <td>46272500</td>\n",
       "      <td>0</td>\n",
       "      <td>0.0</td>\n",
       "      <td>2.615393</td>\n",
       "    </tr>\n",
       "    <tr>\n",
       "      <th>2020-06-26</th>\n",
       "      <td>198.955994</td>\n",
       "      <td>199.000000</td>\n",
       "      <td>190.973999</td>\n",
       "      <td>191.947998</td>\n",
       "      <td>44274500</td>\n",
       "      <td>0</td>\n",
       "      <td>0.0</td>\n",
       "      <td>-2.661312</td>\n",
       "    </tr>\n",
       "    <tr>\n",
       "      <th>2020-06-29</th>\n",
       "      <td>193.802002</td>\n",
       "      <td>202.000000</td>\n",
       "      <td>189.703995</td>\n",
       "      <td>201.869995</td>\n",
       "      <td>45132000</td>\n",
       "      <td>0</td>\n",
       "      <td>0.0</td>\n",
       "      <td>5.169107</td>\n",
       "    </tr>\n",
       "    <tr>\n",
       "      <th>2020-06-30</th>\n",
       "      <td>201.300003</td>\n",
       "      <td>217.537994</td>\n",
       "      <td>200.746002</td>\n",
       "      <td>215.962006</td>\n",
       "      <td>84592500</td>\n",
       "      <td>0</td>\n",
       "      <td>0.0</td>\n",
       "      <td>6.980736</td>\n",
       "    </tr>\n",
       "  </tbody>\n",
       "</table>\n",
       "</div>"
      ],
      "text/plain": [
       "                  Open        High         Low       Close    Volume  \\\n",
       "Date                                                                   \n",
       "2020-06-24  198.822006  200.175995  190.628006  192.169998  54798000   \n",
       "2020-06-25  190.854004  197.195999  187.429993  197.195999  46272500   \n",
       "2020-06-26  198.955994  199.000000  190.973999  191.947998  44274500   \n",
       "2020-06-29  193.802002  202.000000  189.703995  201.869995  45132000   \n",
       "2020-06-30  201.300003  217.537994  200.746002  215.962006  84592500   \n",
       "\n",
       "            Dividends  Stock Splits    Return  \n",
       "Date                                           \n",
       "2020-06-24          0           0.0       NaN  \n",
       "2020-06-25          0           0.0  2.615393  \n",
       "2020-06-26          0           0.0 -2.661312  \n",
       "2020-06-29          0           0.0  5.169107  \n",
       "2020-06-30          0           0.0  6.980736  "
      ]
     },
     "execution_count": 32,
     "metadata": {},
     "output_type": "execute_result"
    }
   ],
   "source": [
    "data.head()"
   ]
  },
  {
   "cell_type": "code",
   "execution_count": 33,
   "id": "9b7296da",
   "metadata": {},
   "outputs": [],
   "source": [
    "#exercise2: create 2 dataframes, one with all positive returns and one all negative returns "
   ]
  },
  {
   "cell_type": "code",
   "execution_count": 34,
   "id": "bf6856fe",
   "metadata": {},
   "outputs": [],
   "source": [
    "pos_return=data[data['Return']>0]\n",
    "neg_return=data[data['Return']<0]"
   ]
  },
  {
   "cell_type": "code",
   "execution_count": 35,
   "id": "8b1712d2",
   "metadata": {},
   "outputs": [
    {
     "data": {
      "text/plain": [
       "((275, 8), (229, 8))"
      ]
     },
     "execution_count": 35,
     "metadata": {},
     "output_type": "execute_result"
    }
   ],
   "source": [
    "pos_return.shape, neg_return.shape"
   ]
  },
  {
   "cell_type": "code",
   "execution_count": 37,
   "id": "e8eb7589",
   "metadata": {},
   "outputs": [
    {
     "data": {
      "text/plain": [
       "(3.156110665703477, -3.008439912357088)"
      ]
     },
     "execution_count": 37,
     "metadata": {},
     "output_type": "execute_result"
    }
   ],
   "source": [
    "pos_return.Return.mean(),neg_return.Return.mean()"
   ]
  },
  {
   "cell_type": "code",
   "execution_count": 38,
   "id": "83df429e",
   "metadata": {},
   "outputs": [
    {
     "data": {
      "text/plain": [
       "[<matplotlib.lines.Line2D at 0x22dd6633610>]"
      ]
     },
     "execution_count": 38,
     "metadata": {},
     "output_type": "execute_result"
    },
    {
     "data": {
      "image/png": "[encoded data removed]",
      "text/plain": [
       "<Figure size 720x576 with 1 Axes>"
      ]
     },
     "metadata": {
      "needs_background": "light"
     },
     "output_type": "display_data"
    }
   ],
   "source": [
    "plt.figure(figsize=(10,8))\n",
    "plt.plot(data['Return'])"
   ]
  },
  {
   "cell_type": "code",
   "execution_count": 39,
   "id": "aa221838",
   "metadata": {},
   "outputs": [
    {
     "data": {
      "image/png": "[encoded data removed]",
      "text/plain": [
       "<Figure size 720x576 with 1 Axes>"
      ]
     },
     "metadata": {
      "needs_background": "light"
     },
     "output_type": "display_data"
    }
   ],
   "source": [
    "plt.figure(figsize=(10,8))\n",
    "plt.plot(pos_return['Return'])\n",
    "plt.plot(neg_return['Return'])\n",
    "plt.show()"
   ]
  },
  {
   "cell_type": "code",
   "execution_count": 42,
   "id": "e47a6580",
   "metadata": {},
   "outputs": [
    {
     "data": {
      "image/png": "[encoded data removed]",
      "text/plain": [
       "<Figure size 720x576 with 1 Axes>"
      ]
     },
     "metadata": {
      "needs_background": "light"
     },
     "output_type": "display_data"
    }
   ],
   "source": [
    "plt.figure(figsize=(10,8))\n",
    "plt.plot(pos_return['Return'],linewidth=2,color='g')\n",
    "plt.plot(neg_return['Return'],linewidth=2,color='r')\n",
    "plt.show()"
   ]
  },
  {
   "cell_type": "markdown",
   "id": "22e6e63f",
   "metadata": {},
   "source": [
    "## Example polynomial regression"
   ]
  },
  {
   "cell_type": "code",
   "execution_count": 45,
   "id": "f25487a8",
   "metadata": {},
   "outputs": [],
   "source": [
    "import numpy as np"
   ]
  },
  {
   "cell_type": "code",
   "execution_count": 43,
   "id": "0adb1226",
   "metadata": {},
   "outputs": [],
   "source": [
    "d = {'Load': [10,25,50,75,100], 'SFOC': [352.29, 268.95,232.05,212.77,194.20]}"
   ]
  },
  {
   "cell_type": "code",
   "execution_count": 46,
   "id": "d936c66a",
   "metadata": {},
   "outputs": [],
   "source": [
    "df=pd.DataFrame(d)"
   ]
  },
  {
   "cell_type": "code",
   "execution_count": 47,
   "id": "f7451c86",
   "metadata": {},
   "outputs": [
    {
     "data": {
      "text/html": [
       "<div>\n",
       "<style scoped>\n",
       "    .dataframe tbody tr th:only-of-type {\n",
       "        vertical-align: middle;\n",
       "    }\n",
       "\n",
       "    .dataframe tbody tr th {\n",
       "        vertical-align: top;\n",
       "    }\n",
       "\n",
       "    .dataframe thead th {\n",
       "        text-align: right;\n",
       "    }\n",
       "</style>\n",
       "<table border=\"1\" class=\"dataframe\">\n",
       "  <thead>\n",
       "    <tr style=\"text-align: right;\">\n",
       "      <th></th>\n",
       "      <th>Load</th>\n",
       "      <th>SFOC</th>\n",
       "    </tr>\n",
       "  </thead>\n",
       "  <tbody>\n",
       "    <tr>\n",
       "      <th>0</th>\n",
       "      <td>10</td>\n",
       "      <td>352.29</td>\n",
       "    </tr>\n",
       "    <tr>\n",
       "      <th>1</th>\n",
       "      <td>25</td>\n",
       "      <td>268.95</td>\n",
       "    </tr>\n",
       "    <tr>\n",
       "      <th>2</th>\n",
       "      <td>50</td>\n",
       "      <td>232.05</td>\n",
       "    </tr>\n",
       "    <tr>\n",
       "      <th>3</th>\n",
       "      <td>75</td>\n",
       "      <td>212.77</td>\n",
       "    </tr>\n",
       "    <tr>\n",
       "      <th>4</th>\n",
       "      <td>100</td>\n",
       "      <td>194.20</td>\n",
       "    </tr>\n",
       "  </tbody>\n",
       "</table>\n",
       "</div>"
      ],
      "text/plain": [
       "   Load    SFOC\n",
       "0    10  352.29\n",
       "1    25  268.95\n",
       "2    50  232.05\n",
       "3    75  212.77\n",
       "4   100  194.20"
      ]
     },
     "execution_count": 47,
     "metadata": {},
     "output_type": "execute_result"
    }
   ],
   "source": [
    "df"
   ]
  },
  {
   "cell_type": "code",
   "execution_count": 50,
   "id": "e683718b",
   "metadata": {},
   "outputs": [],
   "source": [
    "poly_fit_3=np.polyfit(df['Load'],df['SFOC'],3)"
   ]
  },
  {
   "cell_type": "code",
   "execution_count": 51,
   "id": "90923a6b",
   "metadata": {},
   "outputs": [
    {
     "data": {
      "text/plain": [
       "array([-6.21128839e-04,  1.26955251e-01, -8.81087264e+00,  4.25823069e+02])"
      ]
     },
     "execution_count": 51,
     "metadata": {},
     "output_type": "execute_result"
    }
   ],
   "source": [
    "poly_fit_3"
   ]
  },
  {
   "cell_type": "code",
   "execution_count": 52,
   "id": "711f5e88",
   "metadata": {},
   "outputs": [],
   "source": [
    "poly_fit_4=np.polyfit(df['Load'],df['SFOC'],4)"
   ]
  },
  {
   "cell_type": "code",
   "execution_count": 53,
   "id": "05c08841",
   "metadata": {},
   "outputs": [
    {
     "data": {
      "text/plain": [
       "array([ 1.30221766e-05, -3.43591749e-03,  3.26012114e-01, -1.39468422e+01,\n",
       "        4.62462906e+02])"
      ]
     },
     "execution_count": 53,
     "metadata": {},
     "output_type": "execute_result"
    }
   ],
   "source": [
    "poly_fit_4"
   ]
  },
  {
   "cell_type": "code",
   "execution_count": 54,
   "id": "825891df",
   "metadata": {},
   "outputs": [
    {
     "data": {
      "text/plain": [
       "poly1d([-6.21128839e-04,  1.26955251e-01, -8.81087264e+00,  4.25823069e+02])"
      ]
     },
     "execution_count": 54,
     "metadata": {},
     "output_type": "execute_result"
    }
   ],
   "source": [
    "p3=np.poly1d(poly_fit_3)\n",
    "p3"
   ]
  },
  {
   "cell_type": "code",
   "execution_count": 55,
   "id": "9498fded",
   "metadata": {},
   "outputs": [
    {
     "data": {
      "text/plain": [
       "320.12860133786313"
      ]
     },
     "execution_count": 55,
     "metadata": {},
     "output_type": "execute_result"
    }
   ],
   "source": [
    "p3(15)"
   ]
  },
  {
   "cell_type": "code",
   "execution_count": 57,
   "id": "197723c4",
   "metadata": {},
   "outputs": [
    {
     "data": {
      "text/plain": [
       "poly1d([ 1.30221766e-05, -3.43591749e-03,  3.26012114e-01, -1.39468422e+01,\n",
       "        4.62462906e+02])"
      ]
     },
     "execution_count": 57,
     "metadata": {},
     "output_type": "execute_result"
    }
   ],
   "source": [
    "p4=np.poly1d(poly_fit_4)\n",
    "p4"
   ]
  },
  {
   "cell_type": "code",
   "execution_count": 58,
   "id": "0a593543",
   "metadata": {},
   "outputs": [
    {
     "data": {
      "text/plain": [
       "315.6760252991455"
      ]
     },
     "execution_count": 58,
     "metadata": {},
     "output_type": "execute_result"
    }
   ],
   "source": [
    "p4(15)"
   ]
  },
  {
   "cell_type": "code",
   "execution_count": 59,
   "id": "2a6c549d",
   "metadata": {},
   "outputs": [],
   "source": [
    "#exercise3: create a dataframe with three columns,\n",
    "# column 1 => numbers 0 to 100\n",
    "# column 2 => values of p3 for numbers 0 to 100\n",
    "# column 3 => values of p4 for numbers 0 to 100"
   ]
  },
  {
   "cell_type": "code",
   "execution_count": 60,
   "id": "27b2e65b",
   "metadata": {},
   "outputs": [],
   "source": [
    "# hint: create column 1 first"
   ]
  },
  {
   "cell_type": "code",
   "execution_count": 61,
   "id": "2f14db3c",
   "metadata": {},
   "outputs": [
    {
     "data": {
      "text/plain": [
       "array([0, 1, 2, 3, 4])"
      ]
     },
     "execution_count": 61,
     "metadata": {},
     "output_type": "execute_result"
    }
   ],
   "source": [
    "np.arange(0,5)"
   ]
  },
  {
   "cell_type": "code",
   "execution_count": 62,
   "id": "40bf32d9",
   "metadata": {},
   "outputs": [
    {
     "data": {
      "text/plain": [
       "array([462.46290598, 448.83865304, 435.84599112, 423.46477354,\n",
       "       411.6751661 ])"
      ]
     },
     "execution_count": 62,
     "metadata": {},
     "output_type": "execute_result"
    }
   ],
   "source": [
    "p4(np.arange(0,5))"
   ]
  },
  {
   "cell_type": "code",
   "execution_count": 63,
   "id": "3fb12596",
   "metadata": {},
   "outputs": [],
   "source": [
    "number=pd.DataFrame(data={'N':[i for i in range(1,101)]})"
   ]
  },
  {
   "cell_type": "code",
   "execution_count": 64,
   "id": "91d6c270",
   "metadata": {},
   "outputs": [
    {
     "data": {
      "text/html": [
       "<div>\n",
       "<style scoped>\n",
       "    .dataframe tbody tr th:only-of-type {\n",
       "        vertical-align: middle;\n",
       "    }\n",
       "\n",
       "    .dataframe tbody tr th {\n",
       "        vertical-align: top;\n",
       "    }\n",
       "\n",
       "    .dataframe thead th {\n",
       "        text-align: right;\n",
       "    }\n",
       "</style>\n",
       "<table border=\"1\" class=\"dataframe\">\n",
       "  <thead>\n",
       "    <tr style=\"text-align: right;\">\n",
       "      <th></th>\n",
       "      <th>N</th>\n",
       "    </tr>\n",
       "  </thead>\n",
       "  <tbody>\n",
       "    <tr>\n",
       "      <th>0</th>\n",
       "      <td>1</td>\n",
       "    </tr>\n",
       "    <tr>\n",
       "      <th>1</th>\n",
       "      <td>2</td>\n",
       "    </tr>\n",
       "    <tr>\n",
       "      <th>2</th>\n",
       "      <td>3</td>\n",
       "    </tr>\n",
       "    <tr>\n",
       "      <th>3</th>\n",
       "      <td>4</td>\n",
       "    </tr>\n",
       "    <tr>\n",
       "      <th>4</th>\n",
       "      <td>5</td>\n",
       "    </tr>\n",
       "  </tbody>\n",
       "</table>\n",
       "</div>"
      ],
      "text/plain": [
       "   N\n",
       "0  1\n",
       "1  2\n",
       "2  3\n",
       "3  4\n",
       "4  5"
      ]
     },
     "execution_count": 64,
     "metadata": {},
     "output_type": "execute_result"
    }
   ],
   "source": [
    "number.head()"
   ]
  },
  {
   "cell_type": "code",
   "execution_count": 65,
   "id": "96b1d36b",
   "metadata": {},
   "outputs": [
    {
     "data": {
      "text/html": [
       "<div>\n",
       "<style scoped>\n",
       "    .dataframe tbody tr th:only-of-type {\n",
       "        vertical-align: middle;\n",
       "    }\n",
       "\n",
       "    .dataframe tbody tr th {\n",
       "        vertical-align: top;\n",
       "    }\n",
       "\n",
       "    .dataframe thead th {\n",
       "        text-align: right;\n",
       "    }\n",
       "</style>\n",
       "<table border=\"1\" class=\"dataframe\">\n",
       "  <thead>\n",
       "    <tr style=\"text-align: right;\">\n",
       "      <th></th>\n",
       "      <th>N</th>\n",
       "    </tr>\n",
       "  </thead>\n",
       "  <tbody>\n",
       "    <tr>\n",
       "      <th>95</th>\n",
       "      <td>96</td>\n",
       "    </tr>\n",
       "    <tr>\n",
       "      <th>96</th>\n",
       "      <td>97</td>\n",
       "    </tr>\n",
       "    <tr>\n",
       "      <th>97</th>\n",
       "      <td>98</td>\n",
       "    </tr>\n",
       "    <tr>\n",
       "      <th>98</th>\n",
       "      <td>99</td>\n",
       "    </tr>\n",
       "    <tr>\n",
       "      <th>99</th>\n",
       "      <td>100</td>\n",
       "    </tr>\n",
       "  </tbody>\n",
       "</table>\n",
       "</div>"
      ],
      "text/plain": [
       "      N\n",
       "95   96\n",
       "96   97\n",
       "97   98\n",
       "98   99\n",
       "99  100"
      ]
     },
     "execution_count": 65,
     "metadata": {},
     "output_type": "execute_result"
    }
   ],
   "source": [
    "number.tail()"
   ]
  },
  {
   "cell_type": "code",
   "execution_count": 68,
   "id": "a69fa26b",
   "metadata": {},
   "outputs": [],
   "source": [
    "number['p3']=p3(number['N'])"
   ]
  },
  {
   "cell_type": "code",
   "execution_count": 69,
   "id": "626d83c8",
   "metadata": {},
   "outputs": [],
   "source": [
    "number['p4']=p4(number['N'])"
   ]
  },
  {
   "cell_type": "code",
   "execution_count": 70,
   "id": "1c97ce67",
   "metadata": {},
   "outputs": [
    {
     "data": {
      "text/html": [
       "<div>\n",
       "<style scoped>\n",
       "    .dataframe tbody tr th:only-of-type {\n",
       "        vertical-align: middle;\n",
       "    }\n",
       "\n",
       "    .dataframe tbody tr th {\n",
       "        vertical-align: top;\n",
       "    }\n",
       "\n",
       "    .dataframe thead th {\n",
       "        text-align: right;\n",
       "    }\n",
       "</style>\n",
       "<table border=\"1\" class=\"dataframe\">\n",
       "  <thead>\n",
       "    <tr style=\"text-align: right;\">\n",
       "      <th></th>\n",
       "      <th>N</th>\n",
       "      <th>p3</th>\n",
       "      <th>p4</th>\n",
       "    </tr>\n",
       "  </thead>\n",
       "  <tbody>\n",
       "    <tr>\n",
       "      <th>0</th>\n",
       "      <td>1</td>\n",
       "      <td>417.138531</td>\n",
       "      <td>448.838653</td>\n",
       "    </tr>\n",
       "    <tr>\n",
       "      <th>1</th>\n",
       "      <td>2</td>\n",
       "      <td>408.704176</td>\n",
       "      <td>435.845991</td>\n",
       "    </tr>\n",
       "    <tr>\n",
       "      <th>2</th>\n",
       "      <td>3</td>\n",
       "      <td>400.516278</td>\n",
       "      <td>423.464774</td>\n",
       "    </tr>\n",
       "    <tr>\n",
       "      <th>3</th>\n",
       "      <td>4</td>\n",
       "      <td>392.571111</td>\n",
       "      <td>411.675166</td>\n",
       "    </tr>\n",
       "    <tr>\n",
       "      <th>4</th>\n",
       "      <td>5</td>\n",
       "      <td>384.864946</td>\n",
       "      <td>400.457647</td>\n",
       "    </tr>\n",
       "  </tbody>\n",
       "</table>\n",
       "</div>"
      ],
      "text/plain": [
       "   N          p3          p4\n",
       "0  1  417.138531  448.838653\n",
       "1  2  408.704176  435.845991\n",
       "2  3  400.516278  423.464774\n",
       "3  4  392.571111  411.675166\n",
       "4  5  384.864946  400.457647"
      ]
     },
     "execution_count": 70,
     "metadata": {},
     "output_type": "execute_result"
    }
   ],
   "source": [
    "number.head()"
   ]
  },
  {
   "cell_type": "code",
   "execution_count": 71,
   "id": "fc5191e6",
   "metadata": {},
   "outputs": [],
   "source": [
    "#exercise4: plot p3 & p4 in the same line chart using matplotlib "
   ]
  },
  {
   "cell_type": "code",
   "execution_count": 73,
   "id": "7f56836b",
   "metadata": {},
   "outputs": [
    {
     "data": {
      "image/png": "[encoded data removed]",
      "text/plain": [
       "<Figure size 432x288 with 1 Axes>"
      ]
     },
     "metadata": {
      "needs_background": "light"
     },
     "output_type": "display_data"
    }
   ],
   "source": [
    "x=number['N']\n",
    "y=number['p3']\n",
    "y1=number['p4']\n",
    "plt.plot(x,y,'-b',label='p3')\n",
    "plt.plot(x,y1,'-r',label='p4')\n",
    "plt.ylim(0,450)\n",
    "plt.legend()\n",
    "plt.show()"
   ]
  },
  {
   "cell_type": "code",
   "execution_count": 74,
   "id": "dd02b664",
   "metadata": {},
   "outputs": [
    {
     "data": {
      "image/png": "[encoded data removed]",
      "text/plain": [
       "<Figure size 432x288 with 1 Axes>"
      ]
     },
     "metadata": {
      "needs_background": "light"
     },
     "output_type": "display_data"
    }
   ],
   "source": [
    "x=number['N']\n",
    "y=number['p3']\n",
    "y1=number['p4']\n",
    "plt.plot(x,y,'-b',label='p3')\n",
    "plt.plot(x,y1,'-r',label='p4')\n",
    "plt.legend()\n",
    "plt.show()"
   ]
  },
  {
   "cell_type": "code",
   "execution_count": null,
   "id": "30176664",
   "metadata": {},
   "outputs": [],
   "source": []
  }
 ],
 "metadata": {
  "kernelspec": {
   "display_name": "Python 3",
   "language": "python",
   "name": "python3"
  },
  "language_info": {
   "codemirror_mode": {
    "name": "ipython",
    "version": 3
   },
   "file_extension": ".py",
   "mimetype": "text/x-python",
   "name": "python",
   "nbconvert_exporter": "python",
   "pygments_lexer": "ipython3",
   "version": "3.8.8"
  }
 },
 "nbformat": 4,
 "nbformat_minor": 5
}
